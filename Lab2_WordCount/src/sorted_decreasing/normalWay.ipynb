{
 "cells": [
  {
   "cell_type": "markdown",
   "metadata": {},
   "source": [
    "### Phân tích tập dữ liệu chứa các tweets của Elon Musk\n",
    "- Liệt kê 20 từ được nhắc nhiều nhất\n",
    "- Liệt kê 10 tài khoản được nhắc nhiều nhất"
   ]
  },
  {
   "cell_type": "code",
   "execution_count": 1,
   "metadata": {},
   "outputs": [],
   "source": [
    "import pandas as pd"
   ]
  },
  {
   "cell_type": "code",
   "execution_count": 3,
   "metadata": {},
   "outputs": [],
   "source": [
    "# Mở file csv và nạp dữ liệu vào dataframe\n",
    "df = pd.read_csv('../../data/elonmusk_tweets.csv')"
   ]
  },
  {
   "cell_type": "code",
   "execution_count": null,
   "metadata": {},
   "outputs": [],
   "source": [
    "print(df['text'])"
   ]
  },
  {
   "cell_type": "code",
   "execution_count": 6,
   "metadata": {},
   "outputs": [],
   "source": [
    "# Lấy tất cả dòng tweets &  nối thành 1 chuỗi\n",
    "tweets = \" \".join([s for s in df['text']])"
   ]
  },
  {
   "cell_type": "code",
   "execution_count": null,
   "metadata": {},
   "outputs": [],
   "source": [
    "tweets"
   ]
  },
  {
   "cell_type": "code",
   "execution_count": 11,
   "metadata": {},
   "outputs": [],
   "source": [
    "# Tạo 1 cấu trúc dạng từ điển chứa số lượng của mỗi từ trong cặp tweets\n",
    "\n",
    "word_counts = {}\n",
    "\n",
    "# Xét từng từ một trong chuỗi tweets:\n",
    "for w in tweets.split():\n",
    "    # Nếu từ w chưa có trong từ điển thì bổ sung w vào từ điển và khởi tạo\n",
    "    # số lượng = 1\n",
    "    if w not in word_counts:\n",
    "        word_counts[w] = 1\n",
    "    else:\n",
    "        word_counts[w] +=1\n",
    "    "
   ]
  },
  {
   "cell_type": "code",
   "execution_count": null,
   "metadata": {},
   "outputs": [],
   "source": [
    "word_counts"
   ]
  },
  {
   "cell_type": "code",
   "execution_count": 14,
   "metadata": {},
   "outputs": [],
   "source": [
    "# Để lấy top từ xuất hiện nhiều nhất, một cách giải quyết là sắp xếp theo thứ tự giảm dần < giá trị >\n",
    "# Sau đó lấy ra n từ đầu tiên\n",
    "\n",
    "sorted_word_counts = sorted(word_counts.items(),key=lambda x:x[1],reverse=True)"
   ]
  },
  {
   "cell_type": "code",
   "execution_count": null,
   "metadata": {},
   "outputs": [],
   "source": [
    "sorted_word_counts"
   ]
  },
  {
   "cell_type": "code",
   "execution_count": 17,
   "metadata": {},
   "outputs": [
    {
     "name": "stdout",
     "output_type": "stream",
     "text": [
      "Top 20 từ xuất hiện nhiều nhất\n",
      "['the', 'to', 'of', 'a', 'in', 'is', 'for', 'on', 'and', \"b'RT\", 'be', 'at', 'Tesla', 'that', 'will', 'Model', 'I', 'by', 'but', 'it']\n"
     ]
    }
   ],
   "source": [
    "n_top_words = 20\n",
    "top_words = [w for w,c in sorted_word_counts[:n_top_words]]\n",
    "\n",
    "print(f\"Top 20 từ xuất hiện nhiều nhất\")\n",
    "print(top_words)"
   ]
  },
  {
   "cell_type": "code",
   "execution_count": null,
   "metadata": {},
   "outputs": [],
   "source": []
  }
 ],
 "metadata": {
  "interpreter": {
   "hash": "c156cbd56f2befb501b04e4bcafbb3ceb498087e79117ebbae5589b514d9d978"
  },
  "kernelspec": {
   "display_name": "Python 3.9.7 ('base')",
   "language": "python",
   "name": "python3"
  },
  "language_info": {
   "codemirror_mode": {
    "name": "ipython",
    "version": 3
   },
   "file_extension": ".py",
   "mimetype": "text/x-python",
   "name": "python",
   "nbconvert_exporter": "python",
   "pygments_lexer": "ipython3",
   "version": "3.9.7"
  },
  "orig_nbformat": 4
 },
 "nbformat": 4,
 "nbformat_minor": 2
}
