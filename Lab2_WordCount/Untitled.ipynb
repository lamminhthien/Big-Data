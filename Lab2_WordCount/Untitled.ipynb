{
 "cells": [
  {
   "cell_type": "markdown",
   "id": "retained-enough",
   "metadata": {},
   "source": [
    "# Pandas "
   ]
  },
  {
   "cell_type": "code",
   "execution_count": 1,
   "id": "technological-consent",
   "metadata": {},
   "outputs": [],
   "source": [
    "import pandas as pd"
   ]
  },
  {
   "cell_type": "code",
   "execution_count": 2,
   "id": "elegant-freeze",
   "metadata": {},
   "outputs": [],
   "source": [
    "# Mở file và đưa vào pandas dataframe\n",
    "df = pd.read_csv(\"data/elonmusk_tweets.csv\")"
   ]
  },
  {
   "cell_type": "code",
   "execution_count": 3,
   "id": "guided-tactics",
   "metadata": {},
   "outputs": [
    {
     "data": {
      "text/html": [
       "<div>\n",
       "<style scoped>\n",
       "    .dataframe tbody tr th:only-of-type {\n",
       "        vertical-align: middle;\n",
       "    }\n",
       "\n",
       "    .dataframe tbody tr th {\n",
       "        vertical-align: top;\n",
       "    }\n",
       "\n",
       "    .dataframe thead th {\n",
       "        text-align: right;\n",
       "    }\n",
       "</style>\n",
       "<table border=\"1\" class=\"dataframe\">\n",
       "  <thead>\n",
       "    <tr style=\"text-align: right;\">\n",
       "      <th></th>\n",
       "      <th>id</th>\n",
       "      <th>created_at</th>\n",
       "      <th>text</th>\n",
       "    </tr>\n",
       "  </thead>\n",
       "  <tbody>\n",
       "    <tr>\n",
       "      <th>0</th>\n",
       "      <td>849636868052275200</td>\n",
       "      <td>2017-04-05 14:56:29</td>\n",
       "      <td>b'And so the robots spared humanity ... https:...</td>\n",
       "    </tr>\n",
       "    <tr>\n",
       "      <th>1</th>\n",
       "      <td>848988730585096192</td>\n",
       "      <td>2017-04-03 20:01:01</td>\n",
       "      <td>b\"@ForIn2020 @waltmossberg @mims @defcon_5 Exa...</td>\n",
       "    </tr>\n",
       "    <tr>\n",
       "      <th>2</th>\n",
       "      <td>848943072423497728</td>\n",
       "      <td>2017-04-03 16:59:35</td>\n",
       "      <td>b'@waltmossberg @mims @defcon_5 Et tu, Walt?'</td>\n",
       "    </tr>\n",
       "    <tr>\n",
       "      <th>3</th>\n",
       "      <td>848935705057280001</td>\n",
       "      <td>2017-04-03 16:30:19</td>\n",
       "      <td>b'Stormy weather in Shortville ...'</td>\n",
       "    </tr>\n",
       "    <tr>\n",
       "      <th>4</th>\n",
       "      <td>848416049573658624</td>\n",
       "      <td>2017-04-02 06:05:23</td>\n",
       "      <td>b\"@DaveLeeBBC @verge Coal is dying due to nat ...</td>\n",
       "    </tr>\n",
       "  </tbody>\n",
       "</table>\n",
       "</div>"
      ],
      "text/plain": [
       "                   id           created_at  \\\n",
       "0  849636868052275200  2017-04-05 14:56:29   \n",
       "1  848988730585096192  2017-04-03 20:01:01   \n",
       "2  848943072423497728  2017-04-03 16:59:35   \n",
       "3  848935705057280001  2017-04-03 16:30:19   \n",
       "4  848416049573658624  2017-04-02 06:05:23   \n",
       "\n",
       "                                                text  \n",
       "0  b'And so the robots spared humanity ... https:...  \n",
       "1  b\"@ForIn2020 @waltmossberg @mims @defcon_5 Exa...  \n",
       "2      b'@waltmossberg @mims @defcon_5 Et tu, Walt?'  \n",
       "3                b'Stormy weather in Shortville ...'  \n",
       "4  b\"@DaveLeeBBC @verge Coal is dying due to nat ...  "
      ]
     },
     "execution_count": 3,
     "metadata": {},
     "output_type": "execute_result"
    }
   ],
   "source": [
    "df.head()"
   ]
  },
  {
   "cell_type": "code",
   "execution_count": 4,
   "id": "ecological-craps",
   "metadata": {},
   "outputs": [],
   "source": [
    "# Lấy ra khoảng thời gian đăng bài\n",
    "post_periods = df['created_at'].values"
   ]
  },
  {
   "cell_type": "code",
   "execution_count": 9,
   "id": "informal-feeding",
   "metadata": {},
   "outputs": [],
   "source": [
    "post_hours = []\n",
    "\n",
    "for t in post_periods:\n",
    "    _, h = t.split()\n",
    "    post_hours.append(h[:2])"
   ]
  },
  {
   "cell_type": "code",
   "execution_count": 11,
   "id": "commercial-outside",
   "metadata": {},
   "outputs": [],
   "source": [
    "count = {}\n",
    "for h in post_hours:\n",
    "    if h in count:\n",
    "        count[h] += 1\n",
    "    else:\n",
    "        count[h] = 1"
   ]
  },
  {
   "cell_type": "code",
   "execution_count": 12,
   "id": "measured-metro",
   "metadata": {},
   "outputs": [
    {
     "data": {
      "text/plain": [
       "{'14': 114,\n",
       " '20': 176,\n",
       " '16': 198,\n",
       " '06': 85,\n",
       " '04': 98,\n",
       " '18': 162,\n",
       " '23': 141,\n",
       " '19': 154,\n",
       " '00': 144,\n",
       " '22': 168,\n",
       " '21': 192,\n",
       " '01': 183,\n",
       " '17': 190,\n",
       " '10': 34,\n",
       " '15': 190,\n",
       " '07': 94,\n",
       " '08': 82,\n",
       " '03': 104,\n",
       " '02': 119,\n",
       " '05': 81,\n",
       " '12': 17,\n",
       " '11': 15,\n",
       " '09': 55,\n",
       " '13': 23}"
      ]
     },
     "execution_count": 12,
     "metadata": {},
     "output_type": "execute_result"
    }
   ],
   "source": [
    "count"
   ]
  },
  {
   "cell_type": "code",
   "execution_count": null,
   "id": "stupid-bennett",
   "metadata": {},
   "outputs": [],
   "source": []
  }
 ],
 "metadata": {
  "kernelspec": {
   "display_name": "Python 3",
   "language": "python",
   "name": "python3"
  },
  "language_info": {
   "codemirror_mode": {
    "name": "ipython",
    "version": 3
   },
   "file_extension": ".py",
   "mimetype": "text/x-python",
   "name": "python",
   "nbconvert_exporter": "python",
   "pygments_lexer": "ipython3",
   "version": "3.7.10"
  }
 },
 "nbformat": 4,
 "nbformat_minor": 5
}
