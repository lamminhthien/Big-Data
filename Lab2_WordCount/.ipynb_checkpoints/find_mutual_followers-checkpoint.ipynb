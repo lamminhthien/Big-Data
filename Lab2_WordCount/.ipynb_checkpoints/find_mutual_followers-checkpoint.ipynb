{
 "cells": [
  {
   "cell_type": "markdown",
   "metadata": {},
   "source": [
    "# Tìm tài khoản có nhiều người theo dõi nhất trên mạng xã hội"
   ]
  },
  {
   "cell_type": "code",
   "execution_count": 1,
   "metadata": {},
   "outputs": [],
   "source": [
    "followers = {}\n",
    "\n",
    "f = open('data/twitter_following.txt', 'r')\n",
    "\n",
    "for line in f.readlines():\n",
    "    follower, following = line.strip().split(\" \")\n",
    "    # Với mỗi người dùng, liệt kê số followers\n",
    "    if following in followers:\n",
    "        followers[following] += 1\n",
    "    else:\n",
    "        followers[following] = 1"
   ]
  },
  {
   "cell_type": "code",
   "execution_count": 2,
   "metadata": {},
   "outputs": [],
   "source": [
    "# sắp xếp theo thứ tự giảm dần của số followers\n",
    "followers = sorted(followers.items(), key=lambda x: x[1], reverse=True)"
   ]
  },
  {
   "cell_type": "code",
   "execution_count": 3,
   "metadata": {},
   "outputs": [
    {
     "data": {
      "text/plain": [
       "('1', 10)"
      ]
     },
     "execution_count": 3,
     "metadata": {},
     "output_type": "execute_result"
    }
   ],
   "source": [
    "# liệt kê người có nhiều followers nhất\n",
    "followers[0]"
   ]
  },
  {
   "cell_type": "code",
   "execution_count": null,
   "metadata": {},
   "outputs": [],
   "source": []
  }
 ],
 "metadata": {
  "kernelspec": {
   "display_name": "Python 3",
   "language": "python",
   "name": "python3"
  },
  "language_info": {
   "codemirror_mode": {
    "name": "ipython",
    "version": 3
   },
   "file_extension": ".py",
   "mimetype": "text/x-python",
   "name": "python",
   "nbconvert_exporter": "python",
   "pygments_lexer": "ipython3",
   "version": "3.7.3"
  }
 },
 "nbformat": 4,
 "nbformat_minor": 2
}
