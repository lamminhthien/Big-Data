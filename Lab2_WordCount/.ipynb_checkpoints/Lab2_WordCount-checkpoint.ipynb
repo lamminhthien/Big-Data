{
 "cells": [
  {
   "cell_type": "markdown",
   "metadata": {},
   "source": [
    "<img src=\"figs/NTU_logo.png\" align=\"left\" width=\"50\" height=\"50\" alt=\"NTU logo\"> \n",
    "<h1 style=\"text-align:center\"> XỬ LÝ DỮ LIỆU LỚN </h1>\n",
    "\n",
    "<h1 style=\"text-align:center\"> Bài thực hành 2: Word Count </h1>\n",
    "\n",
    "- [Giới thiệu](#intro) <br>\n",
    "- [Hadoop Streaming](#hadoop_streaming) <br>\n",
    "- [Chương trình đếm từ](#word_count) <br>\n",
    "    * [Cách giải quyết thông thường ](#conventional_approach)\n",
    "    * [Cách giải quyết Big Data ](#bigdata_approach)\n",
    "\n",
    "- [Chạy ứng dụng trên Hadoop](#run_program) <br>\n",
    "    * [Khởi động Hadoop](#start_hadoop)\n",
    "    * [Chuẩn bị dữ liệu](#data_preparation)\n",
    "    * [Chạy ứng dụng MapReduce](#run_mapreduce_job)\n",
    "- [Bài tập](#excercises)\n",
    "\n",
    "\n",
    "## Giới thiệu <a name=\"intro\"/>\n",
    "Bài thực hành này thực hiện đếm số lần xuất hiện của mỗi từ trong một tập dữ liệu văn bản. Chương trình được viết bằng Python và được thực thi thông qua tính năng Hadoop Streaming.\n",
    "\n",
    "Chương trình Python chạy trên Hadoop MapReduce dựa theo [Michael Noll](https://www.michael-noll.com/tutorials/writing-an-hadoop-mapreduce-program-in-python/), có sửa chữa để tương thích với Python3 và xử lý ký tự UTF-8 từ Hadoop Streaming. Dữ liệu lấy từ dự án thư viện sách miễn phí [Gutenberg](http://www.gutenberg.org), gồm 3 cuốn:\n",
    "- [The Outline of Science, Vol. 1 (of 4) by J. Arthur Thomson](http://www.gutenberg.org/ebooks/20417.txt.utf-8)\n",
    "- [The Notebooks of Leonardo Da Vinci](http://www.gutenberg.org/files/5000/5000-8.txt)\n",
    "- [Ulysses by James Joyce](http://www.gutenberg.org/files/4300/4300-0.txt)\n",
    "\n",
    "## Hadoop Streaming <a name=\"hadoop_streaming\"/>\n",
    "\n",
    "Hadoop cung cấp tính năng streaming cho phép tạo và thực thi ứng dụng MapReduce với các ngôn ngữ lập trình khác Java, chẳng hạn như Python hay Ruby. Các chương trình xử lý ở pha Map và Reduce đọc dữ liệu từ thiết bị nhập chuẩn (stdin) và đưa kết quả xử lý ra thiết bị xuất chuẩn (stdout). Hadoop tạo tác vụ MapReduce, gửi tới hệ thống yêu cầu thực thi và giám sát tác vụ cho đến khi hoàn tất.\n",
    "\n",
    "## Chương trình đếm từ <a name=\"word_count\"/>\n",
    "### Cách giải quyết thông thường <a name=\"conventional_approach\"/>\n",
    "Cho một tập dữ liệu văn bản gồm nhiều file chứa trong một thư mục. Chương trình Python sau đây thực hiện mở lần lượt từng file và đếm số lần xuất hiện của mỗi từ."
   ]
  },
  {
   "cell_type": "code",
   "execution_count": 1,
   "metadata": {},
   "outputs": [
    {
     "name": "stdout",
     "output_type": "stream",
     "text": [
      "Từ             Tần số    \n",
      "-------------------------\n",
      "The                  2448\n",
      "Project               106\n",
      "Gutenberg              40\n",
      "EBook                   3\n",
      "of                  15813\n",
      "Notebooks               4\n",
      "Leonardo              357\n",
      "Da                      7\n",
      "Vinci,                 24\n",
      "Complete                2\n"
     ]
    }
   ],
   "source": [
    "import os\n",
    "\n",
    "# Xác định thư mục chứa dữ liệu:\n",
    "data_foder = \"data/gutenberg\"\n",
    "\n",
    "# Khởi tạo từ điển: \n",
    "word_counts = {}\n",
    "\n",
    "# Mở lần lượt các file văn bản trong thư mục dữ liệu để đếm từ:\n",
    "for fname in os.listdir(data_foder):\n",
    "    if fname.endswith(\".txt\"):\n",
    "        try:\n",
    "            f = open(os.path.join(data_foder, fname))\n",
    "            for line in f.readlines():\n",
    "                for word in line.split():\n",
    "                    if word in word_counts:\n",
    "                        word_counts[word] += 1\n",
    "                    else:\n",
    "                        word_counts[word] = 1\n",
    "            f.close()\n",
    "        except:\n",
    "            pass\n",
    "\n",
    "# In ra 10 từ đầu tiên và số lần xuất hiện tương ứng:\n",
    "print('{:15}{:10}'.format('Từ', 'Tần số'))\n",
    "print('-------------------------')\n",
    "\n",
    "for w in list(word_counts)[0:10]:\n",
    "    print ('{:15}{:10}'.format(w, word_counts[w])) "
   ]
  },
  {
   "cell_type": "markdown",
   "metadata": {},
   "source": [
    "Chương trình trên xử lý tuần tự trên một máy đơn. Với tập dữ liệu rất lớn thì việc xử lý sẽ mất nhiều thời gian. <br>\n",
    "Một cách giải quyết là sử dụng Hadoop để thực hiện xử lý phân tán.  "
   ]
  },
  {
   "cell_type": "markdown",
   "metadata": {},
   "source": [
    "## Giải pháp Big Data: Hadoop MapReduce <a name=\"bigdata_approach\"/>\n",
    "\n",
    "Nền tảng Hadoop MapReduce cho phép triển khai các ứng dụng xử lý dữ liệu lớn (hàng TB)song song trên cụm (cluster) lên đến hàng ngàn máy tính với độ tin cậy và khả năng chịu lỗi cao.\n",
    "<p align=\"center\">\n",
    "<img src=\"figs/MapReduce.png\" width=\"70%\">\n",
    "<center><caption>Minh họa giải quyết bài toán đếm từ với MapReduce</caption></center>\n",
    "</p>"
   ]
  },
  {
   "cell_type": "markdown",
   "metadata": {},
   "source": [
    "## Bài tập <a name=\"excercises\"/>\n",
    "### Bài 1: Xử lý văn bản\n",
    "Từ file văn bản\n",
    "\n",
    "\n",
    "### Bài 2\n",
    "### Bài 3: Xử lý dữ liệu Twitter\n",
    "Cho file văn bản `data/elonmusk_tweets.csv` chứa các dòng tweets của [Elon Musk](https://en.wikipedia.org/wiki/Elon_Musk) từ 2011-2017.\n",
    "Dữ liệu được chia sẻ bởi [Adam Helsinger](https://data.world/adamhelsingerhttps://data.world/adamhelsinger/elon-musk-tweets-until-4-6-17).\n",
    "Từ file dữ liệu trên, hãy thực hiện các xử lý sau:\n",
    "- Liệt kê top 20 từ được Elon nhắc đến nhiều nhất.\n",
    "- Liệt kê top 10 tài khoản được Elon nhắc đến nhiều nhất.\n",
    "- Hãy xác định thời điểm trong ngày (0-24 giờ) Elon đăng bài nhiều nhất.\n",
    "### Bài 4: Phân tích mạng xã hội \n",
    "Cho file văn bản `data/twitter_following.txt` chứa thông tin về việc tài khoản người dùng theo dõi tài khoản khác trên cùng mạng xã hội.\n",
    "Mỗi dòng file văn bản có dạng:\n",
    "```code\n",
    "<user_id1> <user_id2>\n",
    "```\n",
    "cho biết người dùng với `user_id1` theo dõi người dùng `user_id2`. Nếu `user_id2` cũng theo dõi `user_id1` thì cặp tài khoản này được gọi là theo dõi lẫn nhau (mutual followers).\n",
    "\n",
    "Yêu cầu: Vận dụng cả 2 phương pháp (1) truyền thống và (2) dữ liệu lớn giải quyết các bài toán sau:\n",
    "- Thống kê số lượng người theo dõi (followers) của mỗi tài khoản người dùng.\n",
    "- Liệt kê top 5 người dùng có nhiều theo dõi nhất.\n",
    "- Liệt kê tất cả các cặp người dùng theo dõi lẫn nhau trong file dữ liệu được cho. "
   ]
  },
  {
   "cell_type": "code",
   "execution_count": null,
   "metadata": {},
   "outputs": [],
   "source": []
  }
 ],
 "metadata": {
  "kernelspec": {
   "display_name": "Python 3",
   "language": "python",
   "name": "python3"
  },
  "language_info": {
   "codemirror_mode": {
    "name": "ipython",
    "version": 3
   },
   "file_extension": ".py",
   "mimetype": "text/x-python",
   "name": "python",
   "nbconvert_exporter": "python",
   "pygments_lexer": "ipython3",
   "version": "3.7.3"
  }
 },
 "nbformat": 4,
 "nbformat_minor": 2
}
