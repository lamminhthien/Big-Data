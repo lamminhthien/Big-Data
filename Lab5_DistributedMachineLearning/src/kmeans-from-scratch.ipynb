{
 "cells": [
  {
   "cell_type": "code",
   "execution_count": 1,
   "id": "endless-retention",
   "metadata": {},
   "outputs": [],
   "source": [
    "import numpy as np\n",
    "from sklearn.cluster import KMeans\n",
    "from sklearn import datasets\n",
    "from scipy.spatial.distance import cdist\n",
    "\n",
    "np.random.seed(0)"
   ]
  },
  {
   "cell_type": "code",
   "execution_count": 2,
   "id": "competent-palestine",
   "metadata": {},
   "outputs": [],
   "source": [
    "# Đọc dữ liệu iris từ sklearn\n",
    "iris = datasets.load_iris()\n",
    "X = iris.data\n",
    "y = iris.target"
   ]
  },
  {
   "cell_type": "code",
   "execution_count": 3,
   "id": "guided-parish",
   "metadata": {},
   "outputs": [],
   "source": [
    "# Hàm khởi tạo K centers từ tập dữ liệu vào\n",
    "def InitCenters(X, K):\n",
    "    assert X.ndim == 2, \"Input must be 2-d array\"\n",
    "    assert K > 0 and K <= X.shape[0]\n",
    "    return X[np.random.choice(X.shape[0], K, replace=False), :]"
   ]
  },
  {
   "cell_type": "code",
   "execution_count": 4,
   "id": "opponent-yahoo",
   "metadata": {},
   "outputs": [],
   "source": [
    "# Hàm gán nhãn cho tất cả dữ liệu vào. \n",
    "# Với mỗi điểm dữ liệu x, tính khoảng cách Euclid đến từng center và gán nhãn x bằng chỉ số của center gần x nhất\n",
    "def CreateClusters(X, centers):\n",
    "    \"\"\"\n",
    "    Input:\n",
    "    X: datatpoints\n",
    "    centers: current centers\n",
    "    Output:\n",
    "    labels (specified by center index) for each datapoint\n",
    "    \"\"\"\n",
    "    \n",
    "    labels = []\n",
    "    \n",
    "    for x in X:\n",
    "        minDist = np.inf\n",
    "        minIdx = -1\n",
    "        for i in range(centers.shape[0]):\n",
    "            dist = np.linalg.norm(x - centers[i])\n",
    "            if dist < minDist:\n",
    "                minDist = dist\n",
    "                minIdx = i\n",
    "        labels.append(minIdx)\n",
    "        \n",
    "    return np.asarray(labels)"
   ]
  },
  {
   "cell_type": "code",
   "execution_count": 5,
   "id": "israeli-length",
   "metadata": {},
   "outputs": [],
   "source": [
    "def UpdateCenters(X, labels, K):\n",
    "    new_centers = []\n",
    "    \n",
    "    for k in range(K):\n",
    "        # Lọc các điểm thuộc cụm k: \n",
    "        Xk = X[labels == k, :]\n",
    "        # Lấy giá trị trung bình của mỗi đặc trưng làm center mới\n",
    "        new_centers.append(np.mean(Xk, axis = 0))\n",
    "        \n",
    "    return np.array(new_centers)"
   ]
  },
  {
   "cell_type": "code",
   "execution_count": 7,
   "id": "stone-smoke",
   "metadata": {},
   "outputs": [],
   "source": [
    "def IsConverged(centers, new_centers):\n",
    "    # Trả về True nếu hai tập center giống nhau\n",
    "    return (set([tuple(a) for a in centers]) == \n",
    "        set([tuple(a) for a in new_centers]))"
   ]
  },
  {
   "cell_type": "code",
   "execution_count": 8,
   "id": "antique-house",
   "metadata": {},
   "outputs": [],
   "source": [
    "def KMeans(X, K, max_iter=100):\n",
    "    centers = InitCenters(X,K)\n",
    "    i = 0\n",
    "    while True:\n",
    "        centerIndices = CreateClusters(X, centers)\n",
    "        new_centers = UpdateCenters(X, centerIndices, K)\n",
    "        if IsConverged(centers, new_centers) or i == max_iter:\n",
    "            break\n",
    "        centers = new_centers\n",
    "        i += 1\n",
    "    return(centers, centerIndices, i)"
   ]
  },
  {
   "cell_type": "code",
   "execution_count": 9,
   "id": "dietary-thriller",
   "metadata": {},
   "outputs": [
    {
     "name": "stdout",
     "output_type": "stream",
     "text": [
      "Learned Centers:\n",
      "[[6.85 3.08 5.72 2.05]\n",
      " [5.88 2.74 4.39 1.43]\n",
      " [5.01 3.43 1.46 0.25]]\n",
      "\n",
      "Clusters:\n",
      "[2 2 2 2 2 2 2 2 2 2 2 2 2 2 2 2 2 2 2 2 2 2 2 2 2 2 2 2 2 2 2 2 2 2 2 2 2\n",
      " 2 2 2 2 2 2 2 2 2 2 2 2 2 0 1 0 1 1 1 1 1 1 1 1 1 1 1 1 1 1 1 1 1 1 1 1 1\n",
      " 1 1 1 0 1 1 1 1 1 1 1 1 1 1 1 1 1 1 1 1 1 1 1 1 1 1 0 1 0 0 0 0 1 0 0 0 0\n",
      " 0 0 1 1 0 0 0 0 1 0 1 0 1 0 0 1 1 0 0 0 0 0 1 0 0 0 0 1 0 0 0 1 0 0 0 1 0\n",
      " 0 1]\n",
      "\n",
      "Number of iterations: 8\n"
     ]
    }
   ],
   "source": [
    "K = 3\n",
    "MaxIter = 100\n",
    "\n",
    "(centers, labels, it) = KMeans(X, K, MaxIter)\n",
    "\n",
    "np.set_printoptions(precision=2)\n",
    "print('Learned Centers:')\n",
    "print(centers)\n",
    "print('\\nClusters:')\n",
    "print(labels)\n",
    "print('\\nNumber of iterations:', it)\n"
   ]
  }
 ],
 "metadata": {
  "kernelspec": {
   "display_name": "Python 3",
   "language": "python",
   "name": "python3"
  },
  "language_info": {
   "codemirror_mode": {
    "name": "ipython",
    "version": 3
   },
   "file_extension": ".py",
   "mimetype": "text/x-python",
   "name": "python",
   "nbconvert_exporter": "python",
   "pygments_lexer": "ipython3",
   "version": "3.9.7"
  }
 },
 "nbformat": 4,
 "nbformat_minor": 5
}
