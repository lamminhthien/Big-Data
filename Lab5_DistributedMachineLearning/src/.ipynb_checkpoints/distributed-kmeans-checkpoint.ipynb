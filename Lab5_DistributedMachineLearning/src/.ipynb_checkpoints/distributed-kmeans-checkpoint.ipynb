{
 "cells": [
  {
   "cell_type": "markdown",
   "id": "israeli-michael",
   "metadata": {},
   "source": [
    "# Cài đặt thuật toán K-means phân tán với PySpark\n",
    "\n",
    "- [Spark Machine Learning Library](#mllib)\n",
    "- [Thuật toán K-means với PySpark](#spark_kmeans)\n",
    "- [So sánh kết quả với thư viện Scikit-learn](#comparison)\n",
    "\n",
    "## Spark Machine Learning Library <a name=\"mllib\"/>\n",
    "\n",
    "Spark cung cấp [thư viện MLLib (Machine Learning Library)](https://spark.apache.org/docs/3.1.1/ml-guide.html) cho phép triển khai các dự án machine learning phân tán. Các tính năng của MLLib bao gồm:\n",
    "- Một số thuật toán ML tiêu biểu: phân lớp (classification), hồi qui (regression), phân cụm (clustering), collaborative filtering.\n",
    "- Xử lý đặc trưng (featurization): trích xuất (feature extraction), biến đối (transformation), giảm chiều (dimensionality reduction), chọn lọc (feature selection).\n",
    "\n",
    "- Pipelines: các công cụ xây dựng, tinh chỉnh và đánh giá mô hình ML.\n",
    "- Các tiện ích: xử lý dữ liệu, lưu/nạp mô hình, v.v.\n",
    "\n",
    "Bên cạnh thư viện MLLib (RDD-based API), hiện nay Spark cung cấp thư viện ML mới (DataFrame-based API) với nhiều tính năng dễ sử dụng hơn MLLib. "
   ]
  },
  {
   "cell_type": "markdown",
   "id": "sudden-biology",
   "metadata": {},
   "source": [
    "## Thuật toán K-means với PySpark <a name=\"spark_kmeans\"/>\n",
    "### Khai báo các thư viện "
   ]
  },
  {
   "cell_type": "code",
   "execution_count": 1,
   "id": "optional-strand",
   "metadata": {},
   "outputs": [],
   "source": [
    "import pandas as pd\n",
    "import numpy as np\n",
    "from pyspark.ml.clustering import KMeans\n",
    "from pyspark.sql import SparkSession\n",
    "from pyspark.ml.feature import VectorAssembler"
   ]
  },
  {
   "cell_type": "markdown",
   "id": "welcome-zambia",
   "metadata": {},
   "source": [
    "### Khởi tạo Spark Session\n",
    "\n",
    "Spark phiên bản 2.0 trở đi cung cấp lớp SparkSession để khởi tạo các chức năng của Spark. Sau khi tạo Spark Session, người dùng có thể lập trình với RDD, DataFrame và Dataset. "
   ]
  },
  {
   "cell_type": "code",
   "execution_count": 2,
   "id": "hungry-seafood",
   "metadata": {},
   "outputs": [
    {
     "name": "stderr",
     "output_type": "stream",
     "text": [
      "22/04/02 09:06:39 WARN Utils: Your hostname, DESKTOP-GT2DIJL resolves to a loopback address: 127.0.1.1; using 172.22.64.1 instead (on interface eth1)\n",
      "22/04/02 09:06:39 WARN Utils: Set SPARK_LOCAL_IP if you need to bind to another address\n",
      "Using Spark's default log4j profile: org/apache/spark/log4j-defaults.properties\n",
      "Setting default log level to \"WARN\".\n",
      "To adjust logging level use sc.setLogLevel(newLevel). For SparkR, use setLogLevel(newLevel).\n",
      "22/04/02 09:06:40 WARN NativeCodeLoader: Unable to load native-hadoop library for your platform... using builtin-java classes where applicable\n"
     ]
    }
   ],
   "source": [
    "# Create new Spark session\n",
    "spark = SparkSession.builder.appName(\"Distributed KMeans Example\").getOrCreate()"
   ]
  },
  {
   "cell_type": "markdown",
   "id": "polyphonic-intelligence",
   "metadata": {},
   "source": [
    "### Tạo dữ liệu dạng DataFrame\n",
    "\n",
    "Với Spark Context, người dùng phải tạo mới RDD sau đó lập trình xử lý trên RDD. Spark Session cung cấp các API xử lý với các loại dữ liệu khác, gồm cả DataFrame.\n",
    "\n",
    "Để nạp dữ liệu iris vào Spark cluster, có thể thực hiện như sau: trước hết đọc dữ liệu đưa vào DataFrame dùng thư viện pandas, sau sử dụng phương thức spark.createDataFrame() để nạp dữ liệu vào Spark DataFrame."
   ]
  },
  {
   "cell_type": "code",
   "execution_count": 4,
   "id": "different-theory",
   "metadata": {},
   "outputs": [
    {
     "name": "stdout",
     "output_type": "stream",
     "text": [
      "First 10 rows:\n"
     ]
    },
    {
     "name": "stderr",
     "output_type": "stream",
     "text": [
      "[Stage 0:>                                                          (0 + 1) / 1]\r"
     ]
    },
    {
     "name": "stdout",
     "output_type": "stream",
     "text": [
      "+------------+-----------+------------+-----------+-----------+\n",
      "|sepal-length|sepal-width|petal-length|petal-width|      label|\n",
      "+------------+-----------+------------+-----------+-----------+\n",
      "|         5.1|        3.5|         1.4|        0.2|Iris-setosa|\n",
      "|         4.9|        3.0|         1.4|        0.2|Iris-setosa|\n",
      "|         4.7|        3.2|         1.3|        0.2|Iris-setosa|\n",
      "|         4.6|        3.1|         1.5|        0.2|Iris-setosa|\n",
      "|         5.0|        3.6|         1.4|        0.2|Iris-setosa|\n",
      "|         5.4|        3.9|         1.7|        0.4|Iris-setosa|\n",
      "|         4.6|        3.4|         1.4|        0.3|Iris-setosa|\n",
      "|         5.0|        3.4|         1.5|        0.2|Iris-setosa|\n",
      "|         4.4|        2.9|         1.4|        0.2|Iris-setosa|\n",
      "|         4.9|        3.1|         1.5|        0.1|Iris-setosa|\n",
      "+------------+-----------+------------+-----------+-----------+\n",
      "only showing top 10 rows\n",
      "\n"
     ]
    },
    {
     "name": "stderr",
     "output_type": "stream",
     "text": [
      "                                                                                \r"
     ]
    }
   ],
   "source": [
    "iris_data = spark.createDataFrame(pd.read_csv('/mnt/d/Code/Big-Data/Lab5_DistributedMachineLearning/data/iris.data', \n",
    "                                                header=None, names=['sepal-length',\n",
    "                                                                    'sepal-width', 'petal-length', \n",
    "                                                                    'petal-width','label']))\n",
    "print(\"First 10 rows:\")\n",
    "iris_data.show(10)"
   ]
  },
  {
   "cell_type": "markdown",
   "id": "typical-insertion",
   "metadata": {},
   "source": [
    "### Tạo vector đặc trưng từ DataFrame\n",
    "\n",
    "Để tạo vector đặc trưng (feature vector) cho từng dòng dữ liệu, dùng lớp VectorAssembler để ghép giá trị ở các cột trong DataFrame thành một cột mới chứa vector đặc trưng:"
   ]
  },
  {
   "cell_type": "code",
   "execution_count": 5,
   "id": "accomplished-missouri",
   "metadata": {},
   "outputs": [
    {
     "name": "stdout",
     "output_type": "stream",
     "text": [
      "+------------+-----------+------------+-----------+-----------+-----------------+\n",
      "|sepal-length|sepal-width|petal-length|petal-width|      label|         features|\n",
      "+------------+-----------+------------+-----------+-----------+-----------------+\n",
      "|         5.1|        3.5|         1.4|        0.2|Iris-setosa|[5.1,3.5,1.4,0.2]|\n",
      "|         4.9|        3.0|         1.4|        0.2|Iris-setosa|[4.9,3.0,1.4,0.2]|\n",
      "|         4.7|        3.2|         1.3|        0.2|Iris-setosa|[4.7,3.2,1.3,0.2]|\n",
      "|         4.6|        3.1|         1.5|        0.2|Iris-setosa|[4.6,3.1,1.5,0.2]|\n",
      "|         5.0|        3.6|         1.4|        0.2|Iris-setosa|[5.0,3.6,1.4,0.2]|\n",
      "+------------+-----------+------------+-----------+-----------+-----------------+\n",
      "only showing top 5 rows\n",
      "\n"
     ]
    }
   ],
   "source": [
    "assembler = VectorAssembler(inputCols = [\"sepal-length\", \"sepal-width\", \"petal-length\", \"petal-width\"], \n",
    "                            outputCol=\"features\") \n",
    "irisFeatures = assembler.transform(iris_data) \n",
    "irisFeatures.show(5)"
   ]
  },
  {
   "cell_type": "markdown",
   "id": "flexible-poverty",
   "metadata": {},
   "source": [
    "Lúc này dữ liệu đã sẵn sàng để đưa vào huấn luyện mô hình ML (ở đây là K-means).\n",
    "Gỉa sử chọn số cụm là 3, tiến hành huấn luyện mô hình K-means với PySpark bằng các lệnh sau:"
   ]
  },
  {
   "cell_type": "markdown",
   "id": "extended-evidence",
   "metadata": {},
   "source": [
    "### Huấn luyện mô hình"
   ]
  },
  {
   "cell_type": "code",
   "execution_count": 6,
   "id": "amino-marriage",
   "metadata": {},
   "outputs": [
    {
     "name": "stderr",
     "output_type": "stream",
     "text": [
      "                                                                                \r"
     ]
    }
   ],
   "source": [
    "# Huấn luyện mô hình K-means với K=3 trên toàn bộ tập dữ liệu.\n",
    "# Trong thực tế, để đánh giá một mô hình ML, tập dữ liệu thường được chia làm 3 phần:\n",
    "# - train set dùng để huấn luyện,\n",
    "# - validation set dùng để đánh giá, tinh chỉnh mô hình trong quá trình huấn luyện,\n",
    "# - test set để kiểm tra hiệu năng của mô hình trên dữ liệu hoàn toàn mới.\n",
    "kmeans = KMeans().setK(3).setSeed(0)\n",
    "model = kmeans.fit(irisFeatures)"
   ]
  },
  {
   "cell_type": "markdown",
   "id": "stone-baltimore",
   "metadata": {},
   "source": [
    "### In kết quả"
   ]
  },
  {
   "cell_type": "code",
   "execution_count": 7,
   "id": "integrated-embassy",
   "metadata": {},
   "outputs": [
    {
     "name": "stdout",
     "output_type": "stream",
     "text": [
      "Centers learned by Spark ML: \n",
      "[6.85 3.08 5.72 2.05]\n",
      "[5.01 3.42 1.46 0.24]\n",
      "[5.88 2.74 4.39 1.43]\n"
     ]
    }
   ],
   "source": [
    "# In ra tâm điểm của các cụm\n",
    "\n",
    "centers = model.clusterCenters()\n",
    "np.set_printoptions(precision=2)\n",
    "\n",
    "print(\"Centers learned by Spark ML: \")\n",
    "for center in centers:\n",
    "    print(center)\n",
    "\n",
    "spark.stop()"
   ]
  },
  {
   "cell_type": "markdown",
   "id": "sunrise-uzbekistan",
   "metadata": {},
   "source": [
    "### So sánh với kết quả chạy K-means bằng thư viện Scikit-learn <a name=\"comparison\"/>"
   ]
  },
  {
   "cell_type": "code",
   "execution_count": 8,
   "id": "indonesian-childhood",
   "metadata": {},
   "outputs": [],
   "source": [
    "from sklearn import datasets\n",
    "from sklearn.cluster import KMeans\n",
    "\n",
    "np.random.seed(0)"
   ]
  },
  {
   "cell_type": "code",
   "execution_count": 8,
   "id": "answering-conversion",
   "metadata": {},
   "outputs": [
    {
     "name": "stdout",
     "output_type": "stream",
     "text": [
      "Centers learned by scikit-learn:\n",
      "[[5.9  2.75 4.39 1.43]\n",
      " [5.01 3.43 1.46 0.25]\n",
      " [6.85 3.07 5.74 2.07]]\n"
     ]
    }
   ],
   "source": [
    "# Nạp dữ liệu\n",
    "\n",
    "iris = datasets.load_iris()\n",
    "X = iris.data\n",
    "\n",
    "kmeans = KMeans(n_clusters=3, random_state=0).fit(X)\n",
    "\n",
    "print('Centers learned by scikit-learn:')\n",
    "print(kmeans.cluster_centers_)"
   ]
  }
 ],
 "metadata": {
  "kernelspec": {
   "display_name": "Python 3",
   "language": "python",
   "name": "python3"
  },
  "language_info": {
   "codemirror_mode": {
    "name": "ipython",
    "version": 3
   },
   "file_extension": ".py",
   "mimetype": "text/x-python",
   "name": "python",
   "nbconvert_exporter": "python",
   "pygments_lexer": "ipython3",
   "version": "3.9.7"
  }
 },
 "nbformat": 4,
 "nbformat_minor": 5
}
