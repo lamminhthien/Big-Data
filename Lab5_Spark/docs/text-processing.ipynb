{
 "cells": [
  {
   "cell_type": "markdown",
   "id": "covered-respect",
   "metadata": {},
   "source": [
    "# Xử lý dữ liệu văn bản với PySpark\n",
    "\n",
    "\n",
    "- [Nạp dữ liệu](#load_data)\n",
    "- [Chương trình word count](#wordcount)\n",
    "- [Trích lọc văn bản](#text_filter)\n",
    "- [Lưu kết quả lên bộ nhớ ngoài](#save_results)\n",
    "\n",
    "- [Bài tập](#excercises)\n",
    "\n",
    "- [Tham khảo](#references)"
   ]
  },
  {
   "cell_type": "markdown",
   "id": "voluntary-generation",
   "metadata": {},
   "source": []
  },
  {
   "cell_type": "code",
   "execution_count": 1,
   "id": "boring-trunk",
   "metadata": {},
   "outputs": [
    {
     "name": "stdout",
     "output_type": "stream",
     "text": [
      "\n",
      "Total number of lines: 78753\n",
      "\n",
      "Total number of words: 664661\n",
      "\n",
      "Some results:\n",
      "[('Project', 185), ('of', 23948), ('Science,', 5), ('Vol.', 65), ('(of', 7), ('4),', 3), ('', 34586), ('for', 3372), ('the', 42097), ('anywhere', 18)]\n",
      "\n",
      "Top frequent words:\n",
      "[('the', 42097), ('', 34586), ('of', 23948), ('and', 16916), ('a', 12058), ('to', 12034), ('in', 11885), ('is', 7408), ('that', 6109), ('it', 4979)]\n"
     ]
    }
   ],
   "source": [
    "import os, shutil\n",
    "\n",
    "from pyspark import SparkContext\n",
    "\n",
    "\n",
    "# create Spark context with necessary configuration\n",
    "sc = SparkContext(\"local\", \"Text processing with PySpark Example\")\n",
    "\n",
    "# read data from text file into lines  \n",
    "lines = sc.textFile(\"/home/hung/labs/data/gutenberg/\")\n",
    "\n",
    "# split the lines into words\n",
    "words = lines.flatMap(lambda line: line.split(\" \"))\n",
    "\n",
    "# count the occurrence of each word\n",
    "wordFrequencies = words.map(lambda word: (word, 1)).reduceByKey(lambda a, b: a + b)\n",
    "\n",
    "# count total number of words in the dataset\n",
    "totalWordNumber = words.map(lambda word: 1).reduce(lambda a,b: a + b)\n",
    "\n",
    "# display results\n",
    "# print the number of lines\n",
    "print('\\nTotal number of lines:', lines.count())\n",
    "\n",
    "# print total number of words in the dataset\n",
    "print('\\nTotal number of words:', totalWordNumber)\n",
    "\n",
    "# show 10 rows \n",
    "someResults = wordFrequencies.take(10)\n",
    "print(\"\\nSome results:\")\n",
    "print(someResults)\n",
    "\n",
    "# show top 10 most frequent words\n",
    "topFrequentWords = wordFrequencies.takeOrdered(10, key = lambda x: -x[1])\n",
    "print(\"\\nTop frequent words:\")\n",
    "print(topFrequentWords)"
   ]
  },
  {
   "cell_type": "code",
   "execution_count": 2,
   "id": "colored-headline",
   "metadata": {},
   "outputs": [],
   "source": [
    "# save the set of <word, frequency> to disk\n",
    "savingPath = \"/home/hung/labs/data/output/gutenberg-result\"\n",
    "\n",
    "if os.path.isdir(savingPath):\n",
    "    shutil.rmtree(savingPath, ignore_errors=True)\n",
    "\n",
    "wordFrequencies.saveAsTextFile(savingPath)"
   ]
  },
  {
   "cell_type": "markdown",
   "id": "computational-demand",
   "metadata": {},
   "source": [
    "## Bài tập<a name=\"excercises\"/>\n",
    "\n",
    "1. Từ file `apache_logs` hãy lọc ra các dòng thông báo lỗi (chứa từ \"error\") với PySpark.\n",
    "2. Xử lý dữ liệu Twitter\n",
    "Cho file văn bản `elonmusk_tweets.csv` chứa các dòng tweets của Elon Musk từ 2011-2017. Dữ liệu được chia sẻ bởi [Adam Helsinger](https://data.world/adamhelsinger/elon-musk-tweets-until-4-6-17). Từ file dữ liệu trên, hãy thực hiện các xử lý sau với PySpark:\n",
    "- Liệt kê top 20 từ được nhắc đến nhiều nhất.\n",
    "- Liệt kê top 10 tài khoản được nhắc đến nhiều nhất."
   ]
  },
  {
   "cell_type": "markdown",
   "id": "electric-appliance",
   "metadata": {},
   "source": [
    "## Tham khảo <a name=\"references\"/>\n",
    "[PySpark Documentation\n",
    "](https://spark.apache.org/docs/3.1.1/api/python/)\n",
    "\n",
    "\n",
    "Zaharia M., et al. Learning Spark (O'Reilly, 2015)"
   ]
  },
  {
   "cell_type": "code",
   "execution_count": null,
   "id": "effective-rebecca",
   "metadata": {},
   "outputs": [],
   "source": []
  }
 ],
 "metadata": {
  "kernelspec": {
   "display_name": "Python 3",
   "language": "python",
   "name": "python3"
  },
  "language_info": {
   "codemirror_mode": {
    "name": "ipython",
    "version": 3
   },
   "file_extension": ".py",
   "mimetype": "text/x-python",
   "name": "python",
   "nbconvert_exporter": "python",
   "pygments_lexer": "ipython3",
   "version": "3.6.9"
  }
 },
 "nbformat": 4,
 "nbformat_minor": 5
}
