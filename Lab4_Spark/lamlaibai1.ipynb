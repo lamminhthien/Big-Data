{
 "cells": [
  {
   "cell_type": "code",
   "execution_count": 2,
   "metadata": {},
   "outputs": [],
   "source": [
    "from pyspark import SparkContext"
   ]
  },
  {
   "cell_type": "code",
   "execution_count": null,
   "metadata": {},
   "outputs": [],
   "source": [
    "# tạo đối tượng Spark context \n",
    "# Cái này chỉ chạy  1 lần duy nhất\n",
    "# chạy lần 2 báo lỗi đã có server spark\n",
    "sc = SparkContext(\"local\", \"Day la bai tap 1\")"
   ]
  },
  {
   "cell_type": "code",
   "execution_count": 5,
   "metadata": {},
   "outputs": [],
   "source": [
    "# lines là dữ liệu dạng RDD\n",
    "# do spark context chuyển đổi từ file text thành Rdd\n",
    "# thông qua lệnh textFile\n",
    "# Lấy đường dẫn tệp txt, tệp access log (Copy path = vscode)\n",
    "lines = sc.textFile(\"/mnt/d/Code/Big-Data/Lab4_Spark/src/apache_log.log\")"
   ]
  },
  {
   "cell_type": "code",
   "execution_count": null,
   "metadata": {},
   "outputs": [],
   "source": [
    "# Ta sẽ lọc ra các dòng chỉ chứa từ error bằng hàm filter\n",
    "# mỗi dòng là 1 elment, thỏa diều kiện chứa chữ error\n",
    "# xong sau đó ta thu thập = .collect() thỏa mãn filter\n",
    "# lines là nhiều dòng\n",
    "# line là xét từng dòng đơn lẻ\n",
    "for line in lines.filter(lambda s: 'error' in s).collect():\n",
    "\tprint(line)\n",
    "\t# f.write(element + '\\n')"
   ]
  },
  {
   "cell_type": "code",
   "execution_count": 14,
   "metadata": {},
   "outputs": [],
   "source": [
    "# Lưu kết quả xuống file txt\n",
    "# try: thử mở file xem file có tồn tại hay ko?\n",
    "try:\n",
    "\tf = open(\"BaiTap1-output2.txt\",\"x\")\n",
    "except:\n",
    "\t# tạo file mới khi file đó chưa có\n",
    "\tf = open(\"BaiTap1-output2.txt\",\"w\")"
   ]
  },
  {
   "cell_type": "code",
   "execution_count": 15,
   "metadata": {},
   "outputs": [],
   "source": [
    "for line in lines.filter(lambda s: 'error' in s).collect():\n",
    "\tf.write(line + '\\n')"
   ]
  },
  {
   "cell_type": "code",
   "execution_count": 13,
   "metadata": {},
   "outputs": [
    {
     "name": "stdout",
     "output_type": "stream",
     "text": [
      "/mnt/d/Code/Big-Data/Lab4_Spark\n",
      "0\n"
     ]
    }
   ],
   "source": [
    "import os\n",
    "print(os.system('pwd'))"
   ]
  }
 ],
 "metadata": {
  "interpreter": {
   "hash": "c156cbd56f2befb501b04e4bcafbb3ceb498087e79117ebbae5589b514d9d978"
  },
  "kernelspec": {
   "display_name": "Python 3.9.7 64-bit ('miniconda3')",
   "language": "python",
   "name": "python3"
  },
  "language_info": {
   "codemirror_mode": {
    "name": "ipython",
    "version": 3
   },
   "file_extension": ".py",
   "mimetype": "text/x-python",
   "name": "python",
   "nbconvert_exporter": "python",
   "pygments_lexer": "ipython3",
   "version": "3.9.7"
  },
  "orig_nbformat": 4
 },
 "nbformat": 4,
 "nbformat_minor": 2
}
