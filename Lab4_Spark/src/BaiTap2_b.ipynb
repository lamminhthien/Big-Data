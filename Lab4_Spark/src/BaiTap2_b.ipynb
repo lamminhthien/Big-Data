{
 "cells": [
  {
   "cell_type": "code",
   "execution_count": 1,
   "id": "dbb35c78",
   "metadata": {},
   "outputs": [
    {
     "name": "stderr",
     "output_type": "stream",
     "text": [
      "22/05/08 15:16:20 WARN Utils: Your hostname, DESKTOP-HHU5MDD resolves to a loopback address: 127.0.1.1; using 192.168.1.77 instead (on interface wifi0)\n",
      "22/05/08 15:16:20 WARN Utils: Set SPARK_LOCAL_IP if you need to bind to another address\n",
      "Using Spark's default log4j profile: org/apache/spark/log4j-defaults.properties\n",
      "Setting default log level to \"WARN\".\n",
      "To adjust logging level use sc.setLogLevel(newLevel). For SparkR, use setLogLevel(newLevel).\n",
      "22/05/08 15:16:21 WARN NativeCodeLoader: Unable to load native-hadoop library for your platform... using builtin-java classes where applicable\n"
     ]
    }
   ],
   "source": [
    "# Khai báo thư viện\n",
    "import os, shutil\n",
    "from pyspark import SparkContext\n",
    "\n",
    "# tạo đối tượng Spark context \n",
    "sc = SparkContext(\"local\", \"Text processing with PySpark\")"
   ]
  },
  {
   "cell_type": "code",
   "execution_count": 9,
   "id": "82d42613",
   "metadata": {},
   "outputs": [],
   "source": [
    "# Đọc file tweet\n",
    "lines = sc.textFile(\"/mnt/d/Code/Big-Data/Lab2_WordCount/data/elonmusk_tweets.csv\")"
   ]
  },
  {
   "cell_type": "code",
   "execution_count": 10,
   "id": "3841d289",
   "metadata": {},
   "outputs": [],
   "source": [
    "# Lọc ra những từ có chứa chữ \"@\"\n",
    "words = lines.flatMap(lambda line: line.split(\" \")).filter(lambda line: \"@\" in line)"
   ]
  },
  {
   "cell_type": "code",
   "execution_count": 11,
   "id": "f372014b",
   "metadata": {},
   "outputs": [],
   "source": [
    "# đếm số lần xuất hiện của mỗi tài khoản\n",
    "accountFrequencies = words.map(lambda word: (word, 1)).reduceByKey(lambda a,b: a + b)"
   ]
  },
  {
   "cell_type": "code",
   "execution_count": 12,
   "id": "74a45e90",
   "metadata": {},
   "outputs": [
    {
     "name": "stdout",
     "output_type": "stream",
     "text": [
      "\n",
      "Total number of account: 2286\n",
      "\n",
      "Some results:\n",
      "[('20:01:01,\"b\"\"@ForIn2020', 1), ('@waltmossberg', 3), ('@mims', 2), ('@defcon_5', 2), ('16:59:35,\"b\\'@waltmossberg', 1), ('06:05:23,\"b\"\"@DaveLeeBBC', 1), ('@verge', 1), ('06:04:07,\"b\"\"@Lexxxzis', 1), ('06:02:38,\"b\"\"@verge', 1), (\"04:57:31,b'@SuperCoolCube\", 1)]\n",
      "\n",
      "Top frequent accounts:\n",
      "[('@SpaceX:', 105), ('@TeslaMotors:', 81), ('@TeslaMotors', 62), ('@elonmusk', 58), ('@SpaceX', 55), ('@NASA', 18), ('@NASA:', 16), ('@WIRED:', 10), ('@FredericLambert', 9), ('@Space_Station', 8)]\n"
     ]
    }
   ],
   "source": [
    "# count total number of words in the dataset\n",
    "totalAccountNumber = words.map(lambda word: 1).reduce(lambda a,b: a + b)\n",
    "\n",
    "# display results\n",
    "# print the number of lines\n",
    "# print('\\nTotal number of lines:', lines.count())\n",
    "\n",
    "# print total number of account in the tweet\n",
    "print('\\nTotal number of account:', totalAccountNumber)\n",
    "\n",
    "# lấy ra 10 tài khoản\n",
    "someAccounts = accountFrequencies.take(10)\n",
    "print(\"\\nSome results:\")\n",
    "print(someAccounts)\n",
    "\n",
    "# In ra top 10 tài khoản xuất hiện nhiều nhất: \n",
    "topFrequentAccounts = accountFrequencies.takeOrdered(10, key = lambda x: -x[1])\n",
    "print(\"\\nTop frequent accounts:\")\n",
    "print(topFrequentAccounts)"
   ]
  },
  {
   "cell_type": "code",
   "execution_count": null,
   "id": "63381d75",
   "metadata": {},
   "outputs": [],
   "source": [
    "# Lưu kết quả ra file\n",
    "# Sẽ tạo file mới nếu file chưa tồn tại\n",
    "try:\n",
    "    f = open(\"baiTap2_output.txt\",\"w\")\n",
    "except:\n",
    "    f = open(\"baiTap2_output.txt\",\"x\")\n",
    "for element in topFrequentAccounts:\n",
    "    print(element[0])\n",
    "    f.writelines(element[0] + \"-\" + str(element[1]) + \"\\n\")"
   ]
  },
  {
   "cell_type": "code",
   "execution_count": null,
   "id": "054e317c",
   "metadata": {},
   "outputs": [],
   "source": []
  }
 ],
 "metadata": {
  "interpreter": {
   "hash": "c156cbd56f2befb501b04e4bcafbb3ceb498087e79117ebbae5589b514d9d978"
  },
  "kernelspec": {
   "display_name": "Python 3.9.7 64-bit ('miniconda3')",
   "language": "python",
   "name": "python3"
  },
  "language_info": {
   "codemirror_mode": {
    "name": "ipython",
    "version": 3
   },
   "file_extension": ".py",
   "mimetype": "text/x-python",
   "name": "python",
   "nbconvert_exporter": "python",
   "pygments_lexer": "ipython3",
   "version": "3.9.7"
  }
 },
 "nbformat": 4,
 "nbformat_minor": 5
}
