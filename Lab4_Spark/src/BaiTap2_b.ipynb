{
 "cells": [
  {
   "cell_type": "code",
   "execution_count": null,
   "id": "dbb35c78",
   "metadata": {},
   "outputs": [],
   "source": [
    "# Khai báo thư viện\n",
    "import os, shutil\n",
    "from pyspark import SparkContext\n",
    "\n",
    "# tạo đối tượng Spark context \n",
    "sc = SparkContext(\"local\", \"Text processing with PySpark\")"
   ]
  },
  {
   "cell_type": "code",
   "execution_count": 2,
   "id": "82d42613",
   "metadata": {},
   "outputs": [],
   "source": [
    "# Đọc file tweet\n",
    "lines = sc.textFile(\"/mnt/d/Code/Big-Data/Lab2_WordCount/data/elonmusk_tweets.csv\")"
   ]
  },
  {
   "cell_type": "code",
   "execution_count": 3,
   "id": "3841d289",
   "metadata": {},
   "outputs": [],
   "source": [
    "# Lọc ra những từ có chứa chữ \"@\"\n",
    "# Khác câu a ở lệnh filter, filter từ vựng, không phải filter lines\n",
    "# filter cái words,\n",
    "# pha tách từ split(\" \")\n",
    "# pha tìm từ có @ ở trước,\n",
    "words = lines.flatMap(lambda line: line.split(\" \")).filter(lambda line: \"@\" in line)"
   ]
  },
  {
   "cell_type": "code",
   "execution_count": 4,
   "id": "f372014b",
   "metadata": {},
   "outputs": [],
   "source": [
    "# đếm số lần xuất hiện của mỗi tài khoản\n",
    "accountFrequencies = words.map(lambda word: (word, 1)).reduceByKey(lambda a,b: a + b)"
   ]
  },
  {
   "cell_type": "code",
   "execution_count": 7,
   "id": "74a45e90",
   "metadata": {},
   "outputs": [
    {
     "name": "stdout",
     "output_type": "stream",
     "text": [
      "\n",
      "Top frequent accounts:\n",
      "[('@SpaceX:', 105), ('@TeslaMotors:', 81), ('@TeslaMotors', 62), ('@elonmusk', 58), ('@SpaceX', 55), ('@NASA', 18), ('@NASA:', 16), ('@WIRED:', 10), ('@FredericLambert', 9), ('@Space_Station', 8)]\n"
     ]
    }
   ],
   "source": [
    "# count total number of words in the dataset\n",
    "# totalAccountNumber = words.map(lambda word: 1).reduce(lambda a,b: a + b)\n",
    "\n",
    "# display results\n",
    "# print the number of lines\n",
    "# print('\\nTotal number of lines:', lines.count())\n",
    "\n",
    "# print total number of account in the tweet\n",
    "# print('\\nTotal number of account:', totalAccountNumber)\n",
    "\n",
    "# # lấy ra 10 tài khoản\n",
    "# someAccounts = accountFrequencies.take(10)\n",
    "# print(\"\\nSome results:\")\n",
    "# print(someAccounts)\n",
    "\n",
    "# In ra top 10 tài khoản xuất hiện nhiều nhất: \n",
    "# Takeorder = orderby + lệnh collect, vừa sắp xếp tăng dần hoặc giảm dần, vừa lấy đủ số lượng ra\n",
    "topFrequentAccounts = accountFrequencies.takeOrdered(10, key = lambda x: -x[1])\n",
    "print(\"\\nTop frequent accounts:\")\n",
    "print(topFrequentAccounts)"
   ]
  },
  {
   "cell_type": "code",
   "execution_count": 9,
   "id": "63381d75",
   "metadata": {},
   "outputs": [
    {
     "name": "stdout",
     "output_type": "stream",
     "text": [
      "@SpaceX:\n",
      "@TeslaMotors:\n",
      "@TeslaMotors\n",
      "@elonmusk\n",
      "@SpaceX\n",
      "@NASA\n",
      "@NASA:\n",
      "@WIRED:\n",
      "@FredericLambert\n",
      "@Space_Station\n"
     ]
    }
   ],
   "source": [
    "# Lưu kết quả ra file\n",
    "# Sẽ tạo file mới nếu file chưa tồn tại\n",
    "try:\n",
    "    f = open(\"baiTap2_output.txt\",\"w\")\n",
    "except:\n",
    "    f = open(\"baiTap2_output.txt\",\"x\")\n",
    "for element in topFrequentAccounts:\n",
    "    print(element[0])\n",
    "    f.writelines(element[0] + \"-\" + str(element[1]) + \"\\n\")"
   ]
  },
  {
   "cell_type": "code",
   "execution_count": null,
   "id": "054e317c",
   "metadata": {},
   "outputs": [],
   "source": []
  }
 ],
 "metadata": {
  "interpreter": {
   "hash": "c156cbd56f2befb501b04e4bcafbb3ceb498087e79117ebbae5589b514d9d978"
  },
  "kernelspec": {
   "display_name": "Python 3.9.7 64-bit ('miniconda3')",
   "language": "python",
   "name": "python3"
  },
  "language_info": {
   "codemirror_mode": {
    "name": "ipython",
    "version": 3
   },
   "file_extension": ".py",
   "mimetype": "text/x-python",
   "name": "python",
   "nbconvert_exporter": "python",
   "pygments_lexer": "ipython3",
   "version": "3.9.7"
  }
 },
 "nbformat": 4,
 "nbformat_minor": 5
}
