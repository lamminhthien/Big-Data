{
 "cells": [
  {
   "cell_type": "code",
   "execution_count": 2,
   "metadata": {},
   "outputs": [],
   "source": [
    "import os\n",
    "\n",
    "start_year = 1951\n",
    "end_year = 2000\n",
    "\n",
    "ncdc_port = 'ftp://ftp.ncdc.noaa.gov:21/pub/data/noaa/'\n",
    "saving_folder = 'ncdc'\n",
    "\n",
    "if not os.path.exists(saving_folder):\n",
    "    os.mkdir(saving_folder)\n",
    "else:\n",
    "    for year in range(start_year, end_year+1):\n",
    "        saving_subfolder = os.path.join(saving_folder,str(year))\n",
    "        if not os.path.exists(saving_subfolder):\n",
    "            os.mkdir(saving_subfolder)\n",
    "        request = 'wget -r ' + ncdc_port + str(year) + '/*'\n",
    "        os.system(request)                              "
   ]
  },
  {
   "cell_type": "code",
   "execution_count": null,
   "metadata": {},
   "outputs": [],
   "source": []
  }
 ],
 "metadata": {
  "kernelspec": {
   "display_name": "Python 3",
   "language": "python",
   "name": "python3"
  },
  "language_info": {
   "codemirror_mode": {
    "name": "ipython",
    "version": 3
   },
   "file_extension": ".py",
   "mimetype": "text/x-python",
   "name": "python",
   "nbconvert_exporter": "python",
   "pygments_lexer": "ipython3",
   "version": "3.7.3"
  }
 },
 "nbformat": 4,
 "nbformat_minor": 2
}
