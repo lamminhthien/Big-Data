{
 "cells": [
  {
   "cell_type": "markdown",
   "metadata": {},
   "source": [
    "<img src=\"figs/NTU_logo.png\" align=\"left\" width=\"50\" height=\"50\" /> <br>\n",
    "<h1 style=\"text-align:center\"> XỬ LÝ DỮ LIỆU LỚN </h1>\n",
    "\n",
    "<h1 style=\"text-align:center\"> Lab 3: Phân tích dữ liệu thời tiết </h1>\n",
    "\n",
    "- [Giới thiệu](#intro) <br>\n",
    "\n",
    "- [Chương trình MapReduce ](#mapreduceprogram) <br>\n",
    "\n",
    "- [Chạy ứng dụng trên Hadoop](#run_program) <br>\n",
    "- [Bài tập](#excercises)\n",
    "\n",
    "\n",
    "## Giới thiệu <a name=\"intro\"/>\n",
    "\n",
    "Bài thực hành này xử lý dữ liệu thu thập bởi [Trung tâm dữ liệu thời tiết Hoa Kỳ](https://www.ncdc.noaa.gov/) (NCDC). Dữ liệu được thu nhận từ các trạm quan trắc được đặt ở nhiều nơi, cung cấp các số đo về thời gian, tọa độ, nhiệt độ, áp suất không khí, hướng gió. <br>\n",
    "Yêu cầu: Từ tập dữ liệu thu thập được, hãy tìm nhiệt độ cao nhất của mỗi năm.\n",
    "\n",
    "<p align=\"center\">\n",
    "<img src=\"figs/ncdc_data_sample.png\" width=\"70%\"/>\n",
    "<center>\n",
    "    <caption>Minh họa một mẫu dữ liệu khí tượng từ NCDC. Trong thực tế mỗi bản ghi nằm trên một dòng, các trường dữ liệu liên tiếp nhau (không có ký tự phân cách). \n",
    "    </caption>\n",
    "    <em>\n",
    "        Nguồn: Tom White, Hadoop: The definitive Guide, 4th Ed.\n",
    "    </em>\n",
    "</center>\n",
    "</p>"
   ]
  },
  {
   "cell_type": "markdown",
   "metadata": {},
   "source": [
    "## Chương trình MapReduce  <a name = \"mapreduceprogram\"/>\n",
    "\n",
    "### Map"
   ]
  },
  {
   "cell_type": "code",
   "execution_count": 1,
   "metadata": {},
   "outputs": [],
   "source": [
    "#!/usr/bin/python3\n",
    "'''mapper.py'''\n",
    "\n",
    "import re\n",
    "import sys\n",
    "\n",
    "for line in sys.stdin:\n",
    "  val = line.strip()\n",
    "  (year, temp, q) = (val[15:19], val[87:92], val[92:93])\n",
    "  # Nhiệt đô == \"+9999\" -> không có dữ liệu\n",
    "  # q (quality code) == \"01459\" -> dữ liệu không bị lỗi\n",
    "  if (temp != \"+9999\" and re.match(\"[01459]\", q)):\n",
    "    print(\"%s\\t%s\" % (year, temp))"
   ]
  },
  {
   "cell_type": "markdown",
   "metadata": {},
   "source": [
    "### Reduce"
   ]
  },
  {
   "cell_type": "code",
   "execution_count": 2,
   "metadata": {},
   "outputs": [],
   "source": [
    "#!/usr/bin/python3\n",
    "'''reducer.py'''\n",
    "\n",
    "import sys\n",
    "\n",
    "(last_key, max_val) = (None, -sys.maxsize)\n",
    "for line in sys.stdin:\n",
    "  (key, val) = line.strip().split(\"\\t\")\n",
    "  if last_key and last_key != key:\n",
    "    print(\"%s\\t%s\" % (last_key, max_val))\n",
    "    (last_key, max_val) = (key, int(val))\n",
    "  else:\n",
    "    (last_key, max_val) = (key, max(max_val, int(val)))\n",
    "\n",
    "if last_key:\n",
    "  print(\"%s\\t%s\" % (last_key, max_val))"
   ]
  },
  {
   "cell_type": "markdown",
   "metadata": {},
   "source": [
    "## Chạy ứng dụng Hadoop MapReduce <a name=\"run_program\"/>\n",
    "\n",
    "### Khởi động Hadoop\n",
    "Thực hiện lệnh sau:\n",
    "```shell\n",
    "start-all.sh\n",
    "```\n",
    "\n",
    "### Đưa dữ liệu lên HDFS \n",
    "Trước khi chạy chương trình MapReduce, cần đưa dữ liệu xử lý lên HDFS.\n",
    "\n",
    "#### Tạo thư mục chứa dữ liệu trên HDFS\n",
    "```shell\n",
    "hdfs dfs -mkdir -p data/lab3\n",
    "```\n",
    "Hệ thống tạo thư mục `/user/hdoop/data/lab3` trên HDFS.\n",
    "#### Đưa dữ liệu từ máy cục bộ lên HDFS\n",
    "Giả sử thư mục chứa dữ liệu đầu vào là `/home/hung/Downloads/ncdc` chứa các files dữ liệu thời tiết của NCDC đã được tiền xử lý gộp theo từng năm.\n",
    "Thực hiện lệnh sau để copy dữ liệu lên HDFS:\n",
    "```shell\n",
    "hdfs dfs -copyFromLocal /home/hung/Downloads/ncdc /user/hdoop/data/lab3\n",
    "```\n",
    "\n",
    "#### Chạy chương trình MapReduce\n",
    "Giả sử 2 file `mapper.py` và `reducer.py` lưu ở thư mục `/home/hdoop/labs/lab3`.\n",
    "\n",
    "- Chuyển dấu nhắc đến thư mục `lab3`:\n",
    "```shel\n",
    "cd /home/hdoop/labs/lab3\n",
    "```\n",
    "- Gọi chương trình MapReduce thông qua Hadoop Streaming:\n",
    "```shell\n",
    "hadoop jar $HADOOP_HOME/share/hadoop/tools/lib/hadoop-streaming-3.2.2.jar \\\n",
    " -file mapper.py -mapper mapper.py \\\n",
    " -file reducer.py -reducer reducer.py \\\n",
    " -input /user/hdoop/data/lab3/ncdc \\\n",
    " -output /user/hdoop/data/lab3/ncdc-output \n",
    "```\n",
    "\n",
    "- Kiểm tra kết quả xử lý:\n",
    "```shell\n",
    "hdfs dfs -ls /user/hdoop/data/lab3/ncdc-output \n",
    "```\n",
    "\n",
    "Copy file kết quả từ HDFS xuống máy ổ đĩa cục bộ:\n",
    "```shell\n",
    "hdfs dfs -copyToLocal /user/hdoop/data/lab3/ncdc-output/part-00000 .\n",
    "```"
   ]
  },
  {
   "cell_type": "code",
   "execution_count": 4,
   "metadata": {},
   "outputs": [
    {
     "data": {
      "image/png": "[encoded data removed]",
      "text/plain": [
       "<Figure size 432x288 with 1 Axes>"
      ]
     },
     "metadata": {
      "needs_background": "light"
     },
     "output_type": "display_data"
    }
   ],
   "source": [
    "import pandas as pd \n",
    "import matplotlib.pyplot as plt\n",
    "\n",
    "max_temps = pd.read_csv('part-00000', delimiter='\\t', header=None, names=['year', 'temp'])\n",
    "fig = plt.figure()\n",
    "ax = fig.add_axes([0,0,1,1])\n",
    "years = max_temps['year']\n",
    "temps = max_temps['temp']/10\n",
    "ax.bar(years,temps)\n",
    "\n",
    "plt.show()"
   ]
  },
  {
   "cell_type": "markdown",
   "metadata": {},
   "source": [
    "## Bài tập <a name=\"excercises\"/>\n",
    "\n",
    "\n",
    "Thực hiện các xử lý sau trên tập dữ liệu NCDC:\n",
    "- Tìm thời gian, tọa độ của nơi có nhiệt độ cao nhất mỗi năm.\n",
    "- Tìm địa điểm trên trái đất tương ứng với tọa độ nóng nhất mỗi năm.\n",
    "\n",
    "\n"
   ]
  }
 ],
 "metadata": {
  "kernelspec": {
   "display_name": "Python 3",
   "language": "python",
   "name": "python3"
  },
  "language_info": {
   "codemirror_mode": {
    "name": "ipython",
    "version": 3
   },
   "file_extension": ".py",
   "mimetype": "text/x-python",
   "name": "python",
   "nbconvert_exporter": "python",
   "pygments_lexer": "ipython3",
   "version": "3.7.3"
  }
 },
 "nbformat": 4,
 "nbformat_minor": 2
}
