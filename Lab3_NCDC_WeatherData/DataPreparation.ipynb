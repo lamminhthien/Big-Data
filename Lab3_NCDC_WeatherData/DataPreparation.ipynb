{
 "cells": [
  {
   "cell_type": "markdown",
   "metadata": {},
   "source": [
    "NCDC Data preparation\n",
    "\n",
    "Coded by Hung Nguyen @ Nha Trang University"
   ]
  },
  {
   "cell_type": "code",
   "execution_count": 1,
   "metadata": {},
   "outputs": [],
   "source": [
    "import os\n",
    "import gzip\n",
    "import shutil\n",
    "import glob\n",
    "\n",
    "for year in range(1901, 1906):\n",
    "    for file in os.listdir(\"Data/\"+str(year)):\n",
    "        if file.endswith(\".gz\"):\n",
    "            fname = os.path.join(\"Data/\"+str(year), file)\n",
    "            with gzip.open(fname, 'rb') as f_in:\n",
    "                with open(fname+'.txt', 'wb') as f_out:\n",
    "                    shutil.copyfileobj(f_in, f_out)"
   ]
  },
  {
   "cell_type": "code",
   "execution_count": 5,
   "metadata": {},
   "outputs": [],
   "source": [
    "for year in range(1901, 1906):\n",
    "    with open('PreprocessedData/'+str(year)+'.txt', 'w') as outfile:\n",
    "        for fname in glob.glob(\"Data/\"+str(year)+\"/*.txt\"):\n",
    "            with open(fname) as infile:\n",
    "                outfile.write(infile.read())"
   ]
  }
 ],
 "metadata": {
  "kernelspec": {
   "display_name": "Python 3",
   "language": "python",
   "name": "python3"
  },
  "language_info": {
   "codemirror_mode": {
    "name": "ipython",
    "version": 3
   },
   "file_extension": ".py",
   "mimetype": "text/x-python",
   "name": "python",
   "nbconvert_exporter": "python",
   "pygments_lexer": "ipython3",
   "version": "3.7.3"
  }
 },
 "nbformat": 4,
 "nbformat_minor": 4
}
