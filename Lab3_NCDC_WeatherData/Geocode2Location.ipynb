{
 "cells": [
  {
   "cell_type": "code",
   "execution_count": 1,
   "metadata": {},
   "outputs": [],
   "source": [
    "# Find location name given (lat, long)\n",
    "# Coded by Hung Nguyen @ Nha Trang University\n",
    "\n",
    "import reverse_geocoder as rg\n",
    "import pprint\n",
    "  \n",
    "def Geocode2Location(coordinates):\n",
    "    location = rg.search(coordinates)\n",
    "    return location"
   ]
  },
  {
   "cell_type": "code",
   "execution_count": 2,
   "metadata": {},
   "outputs": [
    {
     "name": "stdout",
     "output_type": "stream",
     "text": [
      "Loading formatted geocoded file...\n"
     ]
    }
   ],
   "source": [
    "f = open('data/preprocessed/1901.txt', 'r')\n",
    "line = f.readline()\n",
    "lat = int(line[28:34])/1000\n",
    "long = int(line[34:41])/1000\n",
    "geoCode = (lat, long)\n",
    "result = Geocode2Location(geoCode) "
   ]
  },
  {
   "cell_type": "code",
   "execution_count": 3,
   "metadata": {},
   "outputs": [
    {
     "name": "stdout",
     "output_type": "stream",
     "text": [
      "[OrderedDict([('lat', '64.02472'),\n",
      "              ('lon', '23.50482'),\n",
      "              ('name', 'Lohtaja'),\n",
      "              ('admin1', 'Central Ostrobothnia'),\n",
      "              ('admin2', 'Kokkola'),\n",
      "              ('cc', 'FI')])]\n"
     ]
    }
   ],
   "source": [
    "# use prettry printer to display result\n",
    "pprint.pprint(result)"
   ]
  },
  {
   "cell_type": "code",
   "execution_count": 4,
   "metadata": {},
   "outputs": [
    {
     "name": "stdout",
     "output_type": "stream",
     "text": [
      "Địa điểm quan trắc:  Lohtaja, FI\n"
     ]
    }
   ],
   "source": [
    "print(\"Địa điểm quan trắc: \", result[0]['name'] + ', ' + result[0]['cc'])"
   ]
  }
 ],
 "metadata": {
  "kernelspec": {
   "display_name": "Python 3",
   "language": "python",
   "name": "python3"
  },
  "language_info": {
   "codemirror_mode": {
    "name": "ipython",
    "version": 3
   },
   "file_extension": ".py",
   "mimetype": "text/x-python",
   "name": "python",
   "nbconvert_exporter": "python",
   "pygments_lexer": "ipython3",
   "version": "3.7.3"
  }
 },
 "nbformat": 4,
 "nbformat_minor": 2
}
