{
 "cells": [
  {
   "cell_type": "markdown",
   "metadata": {},
   "source": [
    "# NCDC Data preparation\n",
    "\n",
    "This script is to decompress NCDC's collected weather data and concatenate for a whole year into a single file."
   ]
  },
  {
   "cell_type": "code",
   "execution_count": 1,
   "metadata": {},
   "outputs": [],
   "source": [
    "import os\n",
    "import gzip\n",
    "import shutil\n",
    "import glob\n",
    "\n",
    "start_year = 1901\n",
    "end_year = 1905 \n",
    "\n",
    "raw_data_path = 'Data/Raw/'\n",
    "preprocessed_path = 'Data/Preprocessed/'\n",
    "\n",
    "if not os.path.isdir(preprocessed_path):\n",
    "    os.mkdir(preprocessed_path)\n",
    "\n",
    "for year in range(start_year, end_year+1):\n",
    "    try:\n",
    "        with open(os.path.join(preprocessed_path, str(year) + '.txt'), 'w') as merged_file:\n",
    "            for file in os.listdir(os.path.join(raw_data_path, str(year))):\n",
    "                if file.endswith(\".gz\"):\n",
    "                    # unzip \n",
    "                    fname = os.path.join(raw_data_path, str(year), file)\n",
    "                    try:\n",
    "                        with gzip.open(fname, 'rb') as f_in:\n",
    "                            with open(fname+'.txt', 'wb') as f_out:\n",
    "                                shutil.copyfileobj(f_in, f_out)\n",
    "                        with open(fname+'.txt') as infile:\n",
    "                                    merged_file.write(infile.read())\n",
    "                        # remove tmp file\n",
    "                        os.remove(fname+'.txt')\n",
    "                    except:\n",
    "                        pass\n",
    "    except: \n",
    "        pass"
   ]
  }
 ],
 "metadata": {
  "kernelspec": {
   "display_name": "Python 3",
   "language": "python",
   "name": "python3"
  },
  "language_info": {
   "codemirror_mode": {
    "name": "ipython",
    "version": 3
   },
   "file_extension": ".py",
   "mimetype": "text/x-python",
   "name": "python",
   "nbconvert_exporter": "python",
   "pygments_lexer": "ipython3",
   "version": "3.7.3"
  }
 },
 "nbformat": 4,
 "nbformat_minor": 4
}
