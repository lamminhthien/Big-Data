{
 "cells": [
  {
   "cell_type": "code",
   "execution_count": null,
   "id": "athletic-mongolia",
   "metadata": {
    "scrolled": true
   },
   "outputs": [
    {
     "name": "stdout",
     "output_type": "stream",
     "text": [
      "Loading formatted geocoded file...\n"
     ]
    }
   ],
   "source": [
    "%matplotlib inline\n",
    "import matplotlib.pyplot as plt\n",
    "import pandas as pd\n",
    "import mpld3\n",
    "import reverse_geocoder as rg\n",
    "\n",
    "result = pd.read_csv('output/part-00000-2','r',\n",
    "        header=None, delimiter='\\t',\n",
    "        names=['year','max_temp', 'min_temp', 'avg_temp', 'max_lat', 'max_lon', 'min_lat', 'min_lon'])\n",
    "\n",
    "max_geocodes = [(int(result['max_lat'][i])/1000, int(result['max_lon'][i])/1000) for i in range(len(result))] \n",
    "min_geocodes = [(int(result['min_lat'][i])/1000, int(result['min_lon'][i])/1000) for i in range(len(result))] \n",
    "\n",
    "# Look up location given geocode\n",
    "def Geocode2Location(coordinates):\n",
    "    location = rg.search(coordinates)\n",
    "    return location\n",
    "\n",
    "max_venues = [Geocode2Location(max_geocodes[i])[0] for i in range(len(result))]\n",
    "max_labels = [max_venues[i]['name'] + ',' \\\n",
    "                 + max_venues[i]['cc'] + ',' + str(result['year'].values[i]) + ' (' \\\n",
    "                 + str(result['max_temp'].values[i]/10) + ')' for i in range(len(result))]\n",
    "\n",
    "min_venues = [Geocode2Location(min_geocodes[i])[0] for i in range(len(result))]\n",
    "min_labels = [min_venues[i]['name'] + ',' \\\n",
    "                 + min_venues[i]['cc'] + ',' + str(result['year'].values[i]) + ' (' \\\n",
    "                 + str(result['min_temp'].values[i]/10) + ')' for i in range(len(result))]\n",
    "\n",
    "# plot\n",
    "fig, ax = plt.subplots(subplot_kw=dict(facecolor='#EEEEEE'), figsize=(8,6))\n",
    "\n",
    "scatter1_max = ax.scatter(result['year'], \n",
    "                     result['max_temp'] /10,\n",
    "                     cmap=plt.cm.jet,s=60, color='#FF5733')\n",
    "scatter2_min = ax.scatter(result['year'], \n",
    "                     result['min_temp'] /10,\n",
    "                     cmap=plt.cm.jet, s=60, color='#17BC08'\n",
    "                     )\n",
    "scatter3_avg = ax.scatter(result['year'], \n",
    "                     result['avg_temp'] /100,\n",
    "                     cmap=plt.cm.jet, s=60, color='#2288B3'\n",
    "                     )\n",
    "\n",
    "ax.grid(color='white', linestyle='--', alpha=0.2)\n",
    "plt.plot(result['year'], result['max_temp'] /10,  color='#FF5733', label='Cao nhất')\n",
    "plt.plot(result['year'], result['min_temp'] /10,  color='#17BC08', label='Thấp nhất',)\n",
    "plt.plot(result['year'], result['avg_temp'] /100, color='#2288B3', label='Trung bình')\n",
    "\n",
    "plt.legend(loc='upper left')\n",
    "plt.ylim(-60,70)\n",
    "ax.xaxis.set_major_formatter('')\n",
    "\n",
    "max_temp_tooltips = mpld3.plugins.PointLabelTooltip(scatter1_max, labels=max_labels)\n",
    "min_temp_tooltips = mpld3.plugins.PointLabelTooltip(scatter2_min, labels=min_labels)\n",
    "\n",
    "mpld3.enable_notebook()\n",
    "mpld3.plugins.connect(fig, max_temp_tooltips)\n",
    "mpld3.plugins.connect(fig, min_temp_tooltips)\n",
    "\n",
    "# Run this script locally to see the result\n",
    "mpld3.display()"
   ]
  },
  {
   "cell_type": "markdown",
   "id": "lovely-filename",
   "metadata": {},
   "source": [
    "<img src=\"figs/ncdc_result_visualization.png\" width=\"50%\"/>"
   ]
  }
 ],
 "metadata": {
  "kernelspec": {
   "display_name": "Python 3",
   "language": "python",
   "name": "python3"
  },
  "language_info": {
   "codemirror_mode": {
    "name": "ipython",
    "version": 3
   },
   "file_extension": ".py",
   "mimetype": "text/x-python",
   "name": "python",
   "nbconvert_exporter": "python",
   "pygments_lexer": "ipython3",
   "version": "3.7.10"
  }
 },
 "nbformat": 4,
 "nbformat_minor": 5
}
