{
 "cells": [
  {
   "cell_type": "code",
   "execution_count": 2,
   "metadata": {},
   "outputs": [
    {
     "name": "stdout",
     "output_type": "stream",
     "text": [
      "1901\t345\n",
      "1902\t310\n",
      "1903\t362\n",
      "1904\t347\n",
      "1905\t329\n"
     ]
    }
   ],
   "source": [
    "f = open('data/sample_input.txt', 'r')\n",
    "\n",
    "(last_year, last_temperature) = (None, None)\n",
    "\n",
    "count = 0\n",
    "total = 0\n",
    "\n",
    "for line in f.readlines():\n",
    "    current_year, current_temperature = line.strip().split()\n",
    "    if (last_year != None) and (last_year != current_year):\n",
    "        print('%s\\t%s' % (last_year, int(round(total / count, 1) * 10)))\n",
    "        (last_year, last_temperature) = (current_year, int(current_temperature))\n",
    "        total = last_temperature\n",
    "        count = 1\n",
    "    else:\n",
    "        (last_year, last_temperature) = (current_year, int(current_temperature))\n",
    "        total += int(current_temperature)\n",
    "        count += 1\n",
    "if last_year:\n",
    "    print('%s\\t%s' % (last_year, int(round(total / count, 1) * 10)))\n",
    "    "
   ]
  }
 ],
 "metadata": {
  "kernelspec": {
   "display_name": "Python 3",
   "language": "python",
   "name": "python3"
  },
  "language_info": {
   "codemirror_mode": {
    "name": "ipython",
    "version": 3
   },
   "file_extension": ".py",
   "mimetype": "text/x-python",
   "name": "python",
   "nbconvert_exporter": "python",
   "pygments_lexer": "ipython3",
   "version": "3.7.3"
  }
 },
 "nbformat": 4,
 "nbformat_minor": 2
}
