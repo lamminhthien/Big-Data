{
 "cells": [
  {
   "cell_type": "code",
   "execution_count": 1,
   "metadata": {},
   "outputs": [
    {
     "name": "stdout",
     "output_type": "stream",
     "text": [
      "Requirement already satisfied: reverse_geocoder in /home/hdoop/miniconda3/lib/python3.9/site-packages (1.5.1)\n",
      "Requirement already satisfied: scipy>=0.17.1 in /home/hdoop/miniconda3/lib/python3.9/site-packages (from reverse_geocoder) (1.8.0)\n",
      "Requirement already satisfied: numpy>=1.11.0 in /home/hdoop/miniconda3/lib/python3.9/site-packages (from reverse_geocoder) (1.22.3)\n",
      "\u001b[33mWARNING: Running pip as the 'root' user can result in broken permissions and conflicting behaviour with the system package manager. It is recommended to use a virtual environment instead: https://pip.pypa.io/warnings/venv\u001b[0m\n"
     ]
    }
   ],
   "source": [
    "!pip install reverse_geocoder"
   ]
  },
  {
   "cell_type": "code",
   "execution_count": 1,
   "metadata": {},
   "outputs": [],
   "source": [
    "import reverse_geocoder as rg\n",
    "import pandas as pd"
   ]
  },
  {
   "cell_type": "code",
   "execution_count": 2,
   "metadata": {},
   "outputs": [],
   "source": [
    "# Đọc dữ liệu kết quả\n",
    "max_temps = pd.read_csv('data/data_has_max-temp_lat,lon,date,time', delimiter='\\t', header=None,\n",
    " names=['year', 'max_temp','latitude','longtitude','date','time'])\n",
    "    "
   ]
  },
  {
   "cell_type": "code",
   "execution_count": 3,
   "metadata": {},
   "outputs": [
    {
     "data": {
      "text/html": [
       "<div>\n",
       "<style scoped>\n",
       "    .dataframe tbody tr th:only-of-type {\n",
       "        vertical-align: middle;\n",
       "    }\n",
       "\n",
       "    .dataframe tbody tr th {\n",
       "        vertical-align: top;\n",
       "    }\n",
       "\n",
       "    .dataframe thead th {\n",
       "        text-align: right;\n",
       "    }\n",
       "</style>\n",
       "<table border=\"1\" class=\"dataframe\">\n",
       "  <thead>\n",
       "    <tr style=\"text-align: right;\">\n",
       "      <th></th>\n",
       "      <th>year</th>\n",
       "      <th>max_temp</th>\n",
       "      <th>latitude</th>\n",
       "      <th>longtitude</th>\n",
       "      <th>date</th>\n",
       "      <th>time</th>\n",
       "    </tr>\n",
       "  </thead>\n",
       "  <tbody>\n",
       "    <tr>\n",
       "      <th>0</th>\n",
       "      <td>1901</td>\n",
       "      <td>317</td>\n",
       "      <td>64.333</td>\n",
       "      <td>23.450</td>\n",
       "      <td>19020101</td>\n",
       "      <td>600</td>\n",
       "    </tr>\n",
       "    <tr>\n",
       "      <th>1</th>\n",
       "      <td>1902</td>\n",
       "      <td>244</td>\n",
       "      <td>61.183</td>\n",
       "      <td>22.617</td>\n",
       "      <td>19030101</td>\n",
       "      <td>2000</td>\n",
       "    </tr>\n",
       "    <tr>\n",
       "      <th>2</th>\n",
       "      <td>1903</td>\n",
       "      <td>289</td>\n",
       "      <td>61.483</td>\n",
       "      <td>21.350</td>\n",
       "      <td>19040101</td>\n",
       "      <td>1300</td>\n",
       "    </tr>\n",
       "    <tr>\n",
       "      <th>3</th>\n",
       "      <td>1904</td>\n",
       "      <td>256</td>\n",
       "      <td>64.333</td>\n",
       "      <td>23.450</td>\n",
       "      <td>19050101</td>\n",
       "      <td>600</td>\n",
       "    </tr>\n",
       "    <tr>\n",
       "      <th>4</th>\n",
       "      <td>1905</td>\n",
       "      <td>283</td>\n",
       "      <td>61.500</td>\n",
       "      <td>23.767</td>\n",
       "      <td>19060101</td>\n",
       "      <td>2000</td>\n",
       "    </tr>\n",
       "  </tbody>\n",
       "</table>\n",
       "</div>"
      ],
      "text/plain": [
       "   year  max_temp  latitude  longtitude      date  time\n",
       "0  1901       317    64.333      23.450  19020101   600\n",
       "1  1902       244    61.183      22.617  19030101  2000\n",
       "2  1903       289    61.483      21.350  19040101  1300\n",
       "3  1904       256    64.333      23.450  19050101   600\n",
       "4  1905       283    61.500      23.767  19060101  2000"
      ]
     },
     "execution_count": 3,
     "metadata": {},
     "output_type": "execute_result"
    }
   ],
   "source": [
    "max_temps.head()"
   ]
  },
  {
   "cell_type": "code",
   "execution_count": 4,
   "metadata": {},
   "outputs": [
    {
     "data": {
      "text/plain": [
       "61.183"
      ]
     },
     "execution_count": 4,
     "metadata": {},
     "output_type": "execute_result"
    }
   ],
   "source": [
    "max_temps.latitude[1]"
   ]
  },
  {
   "cell_type": "code",
   "execution_count": 12,
   "metadata": {},
   "outputs": [
    {
     "name": "stdout",
     "output_type": "stream",
     "text": [
      "Năm 1901 --Nhiệt độ cao nhất 317 -- Vị trí \n",
      "Năm 1902 --Nhiệt độ cao nhất 244 -- Vị trí \n",
      "Năm 1903 --Nhiệt độ cao nhất 289 -- Vị trí \n",
      "Năm 1904 --Nhiệt độ cao nhất 256 -- Vị trí \n",
      "Năm 1905 --Nhiệt độ cao nhất 283 -- Vị trí \n"
     ]
    },
    {
     "ename": "KeyboardInterrupt",
     "evalue": "",
     "output_type": "error",
     "traceback": [
      "\u001b[0;31m---------------------------------------------------------------------------\u001b[0m",
      "\u001b[0;31mKeyboardInterrupt\u001b[0m                         Traceback (most recent call last)",
      "\u001b[1;32m/mnt/d/Code/Big-Data/Lab3_NCDC_WeatherData/Find_Location.ipynb Cell 6'\u001b[0m in \u001b[0;36m<cell line: 5>\u001b[0;34m()\u001b[0m\n\u001b[1;32m      <a href='vscode-notebook-cell://wsl%2Bwsl_ubuntu18/mnt/d/Code/Big-Data/Lab3_NCDC_WeatherData/Find_Location.ipynb#ch0000004vscode-remote?line=4'>5</a>\u001b[0m \u001b[39mfor\u001b[39;00m i \u001b[39min\u001b[39;00m \u001b[39mrange\u001b[39m(\u001b[39m0\u001b[39m,\u001b[39mlen\u001b[39m(max_temps)):\n\u001b[1;32m      <a href='vscode-notebook-cell://wsl%2Bwsl_ubuntu18/mnt/d/Code/Big-Data/Lab3_NCDC_WeatherData/Find_Location.ipynb#ch0000004vscode-remote?line=5'>6</a>\u001b[0m     geoCode \u001b[39m=\u001b[39m (max_temps\u001b[39m.\u001b[39mlatitude[i], max_temps\u001b[39m.\u001b[39mlongtitude[i])\n\u001b[0;32m----> <a href='vscode-notebook-cell://wsl%2Bwsl_ubuntu18/mnt/d/Code/Big-Data/Lab3_NCDC_WeatherData/Find_Location.ipynb#ch0000004vscode-remote?line=6'>7</a>\u001b[0m     result \u001b[39m=\u001b[39m Geocode2Location(geoCode)[\u001b[39m0\u001b[39m]\n\u001b[1;32m      <a href='vscode-notebook-cell://wsl%2Bwsl_ubuntu18/mnt/d/Code/Big-Data/Lab3_NCDC_WeatherData/Find_Location.ipynb#ch0000004vscode-remote?line=7'>8</a>\u001b[0m     \u001b[39mprint\u001b[39m(\u001b[39mf\u001b[39m\u001b[39m\"\u001b[39m\u001b[39mNăm \u001b[39m\u001b[39m{\u001b[39;00mmax_temps\u001b[39m.\u001b[39myear[i]\u001b[39m}\u001b[39;00m\u001b[39m --Nhiệt độ cao nhất \u001b[39m\u001b[39m{\u001b[39;00mmax_temps\u001b[39m.\u001b[39mmax_temp[i]\u001b[39m}\u001b[39;00m\u001b[39m -- Vị trí \u001b[39m\u001b[39m\"\u001b[39m)\n",
      "\u001b[1;32m/mnt/d/Code/Big-Data/Lab3_NCDC_WeatherData/Find_Location.ipynb Cell 6'\u001b[0m in \u001b[0;36mGeocode2Location\u001b[0;34m(coordinates)\u001b[0m\n\u001b[1;32m      <a href='vscode-notebook-cell://wsl%2Bwsl_ubuntu18/mnt/d/Code/Big-Data/Lab3_NCDC_WeatherData/Find_Location.ipynb#ch0000004vscode-remote?line=0'>1</a>\u001b[0m \u001b[39mdef\u001b[39;00m \u001b[39mGeocode2Location\u001b[39m(coordinates):\n\u001b[0;32m----> <a href='vscode-notebook-cell://wsl%2Bwsl_ubuntu18/mnt/d/Code/Big-Data/Lab3_NCDC_WeatherData/Find_Location.ipynb#ch0000004vscode-remote?line=1'>2</a>\u001b[0m     location \u001b[39m=\u001b[39m rg\u001b[39m.\u001b[39;49msearch(coordinates)\n\u001b[1;32m      <a href='vscode-notebook-cell://wsl%2Bwsl_ubuntu18/mnt/d/Code/Big-Data/Lab3_NCDC_WeatherData/Find_Location.ipynb#ch0000004vscode-remote?line=2'>3</a>\u001b[0m     \u001b[39mreturn\u001b[39;00m location\n",
      "File \u001b[0;32m/home/hdoop/miniconda3/lib/python3.9/site-packages/reverse_geocoder/__init__.py:293\u001b[0m, in \u001b[0;36msearch\u001b[0;34m(geo_coords, mode, verbose)\u001b[0m\n\u001b[1;32m    <a href='file:///home/hdoop/miniconda3/lib/python3.9/site-packages/reverse_geocoder/__init__.py?line=289'>290</a>\u001b[0m     geo_coords \u001b[39m=\u001b[39m [geo_coords]\n\u001b[1;32m    <a href='file:///home/hdoop/miniconda3/lib/python3.9/site-packages/reverse_geocoder/__init__.py?line=291'>292</a>\u001b[0m _rg \u001b[39m=\u001b[39m RGeocoder(mode\u001b[39m=\u001b[39mmode, verbose\u001b[39m=\u001b[39mverbose)\n\u001b[0;32m--> <a href='file:///home/hdoop/miniconda3/lib/python3.9/site-packages/reverse_geocoder/__init__.py?line=292'>293</a>\u001b[0m \u001b[39mreturn\u001b[39;00m _rg\u001b[39m.\u001b[39;49mquery(geo_coords)\n",
      "File \u001b[0;32m/home/hdoop/miniconda3/lib/python3.9/site-packages/reverse_geocoder/__init__.py:127\u001b[0m, in \u001b[0;36mRGeocoder.query\u001b[0;34m(self, coordinates)\u001b[0m\n\u001b[1;32m    <a href='file:///home/hdoop/miniconda3/lib/python3.9/site-packages/reverse_geocoder/__init__.py?line=124'>125</a>\u001b[0m     _, indices \u001b[39m=\u001b[39m \u001b[39mself\u001b[39m\u001b[39m.\u001b[39mtree\u001b[39m.\u001b[39mquery(coordinates, k\u001b[39m=\u001b[39m\u001b[39m1\u001b[39m)\n\u001b[1;32m    <a href='file:///home/hdoop/miniconda3/lib/python3.9/site-packages/reverse_geocoder/__init__.py?line=125'>126</a>\u001b[0m \u001b[39melse\u001b[39;00m:\n\u001b[0;32m--> <a href='file:///home/hdoop/miniconda3/lib/python3.9/site-packages/reverse_geocoder/__init__.py?line=126'>127</a>\u001b[0m     _, indices \u001b[39m=\u001b[39m \u001b[39mself\u001b[39;49m\u001b[39m.\u001b[39;49mtree\u001b[39m.\u001b[39;49mpquery(coordinates, k\u001b[39m=\u001b[39;49m\u001b[39m1\u001b[39;49m)\n\u001b[1;32m    <a href='file:///home/hdoop/miniconda3/lib/python3.9/site-packages/reverse_geocoder/__init__.py?line=127'>128</a>\u001b[0m \u001b[39mreturn\u001b[39;00m [\u001b[39mself\u001b[39m\u001b[39m.\u001b[39mlocations[index] \u001b[39mfor\u001b[39;00m index \u001b[39min\u001b[39;00m indices]\n",
      "File \u001b[0;32m/home/hdoop/miniconda3/lib/python3.9/site-packages/reverse_geocoder/cKDTree_MP.py:98\u001b[0m, in \u001b[0;36mcKDTree_MP.pquery\u001b[0;34m(self, x_list, k, eps, p, distance_upper_bound)\u001b[0m\n\u001b[1;32m     <a href='file:///home/hdoop/miniconda3/lib/python3.9/site-packages/reverse_geocoder/cKDTree_MP.py?line=95'>96</a>\u001b[0m pool \u001b[39m=\u001b[39m [mp\u001b[39m.\u001b[39mProcess(target\u001b[39m=\u001b[39m_pquery, args\u001b[39m=\u001b[39mquery_args) \u001b[39mfor\u001b[39;00m _ \u001b[39min\u001b[39;00m \u001b[39mrange\u001b[39m(nprocs)]\n\u001b[1;32m     <a href='file:///home/hdoop/miniconda3/lib/python3.9/site-packages/reverse_geocoder/cKDTree_MP.py?line=96'>97</a>\u001b[0m \u001b[39mfor\u001b[39;00m p \u001b[39min\u001b[39;00m pool: p\u001b[39m.\u001b[39mstart()\n\u001b[0;32m---> <a href='file:///home/hdoop/miniconda3/lib/python3.9/site-packages/reverse_geocoder/cKDTree_MP.py?line=97'>98</a>\u001b[0m \u001b[39mfor\u001b[39;00m p \u001b[39min\u001b[39;00m pool: p\u001b[39m.\u001b[39;49mjoin()\n\u001b[1;32m     <a href='file:///home/hdoop/miniconda3/lib/python3.9/site-packages/reverse_geocoder/cKDTree_MP.py?line=98'>99</a>\u001b[0m \u001b[39mif\u001b[39;00m ierr\u001b[39m.\u001b[39mvalue \u001b[39m!=\u001b[39m \u001b[39m0\u001b[39m:\n\u001b[1;32m    <a href='file:///home/hdoop/miniconda3/lib/python3.9/site-packages/reverse_geocoder/cKDTree_MP.py?line=99'>100</a>\u001b[0m     \u001b[39mraise\u001b[39;00m \u001b[39mRuntimeError\u001b[39;00m(\u001b[39m'\u001b[39m\u001b[39m%d\u001b[39;00m\u001b[39m errors in worker processes\u001b[39m\u001b[39m'\u001b[39m \u001b[39m%\u001b[39m (ierr\u001b[39m.\u001b[39mvalue))\n",
      "File \u001b[0;32m/home/hdoop/miniconda3/lib/python3.9/multiprocessing/process.py:149\u001b[0m, in \u001b[0;36mBaseProcess.join\u001b[0;34m(self, timeout)\u001b[0m\n\u001b[1;32m    <a href='file:///home/hdoop/miniconda3/lib/python3.9/multiprocessing/process.py?line=146'>147</a>\u001b[0m \u001b[39massert\u001b[39;00m \u001b[39mself\u001b[39m\u001b[39m.\u001b[39m_parent_pid \u001b[39m==\u001b[39m os\u001b[39m.\u001b[39mgetpid(), \u001b[39m'\u001b[39m\u001b[39mcan only join a child process\u001b[39m\u001b[39m'\u001b[39m\n\u001b[1;32m    <a href='file:///home/hdoop/miniconda3/lib/python3.9/multiprocessing/process.py?line=147'>148</a>\u001b[0m \u001b[39massert\u001b[39;00m \u001b[39mself\u001b[39m\u001b[39m.\u001b[39m_popen \u001b[39mis\u001b[39;00m \u001b[39mnot\u001b[39;00m \u001b[39mNone\u001b[39;00m, \u001b[39m'\u001b[39m\u001b[39mcan only join a started process\u001b[39m\u001b[39m'\u001b[39m\n\u001b[0;32m--> <a href='file:///home/hdoop/miniconda3/lib/python3.9/multiprocessing/process.py?line=148'>149</a>\u001b[0m res \u001b[39m=\u001b[39m \u001b[39mself\u001b[39;49m\u001b[39m.\u001b[39;49m_popen\u001b[39m.\u001b[39;49mwait(timeout)\n\u001b[1;32m    <a href='file:///home/hdoop/miniconda3/lib/python3.9/multiprocessing/process.py?line=149'>150</a>\u001b[0m \u001b[39mif\u001b[39;00m res \u001b[39mis\u001b[39;00m \u001b[39mnot\u001b[39;00m \u001b[39mNone\u001b[39;00m:\n\u001b[1;32m    <a href='file:///home/hdoop/miniconda3/lib/python3.9/multiprocessing/process.py?line=150'>151</a>\u001b[0m     _children\u001b[39m.\u001b[39mdiscard(\u001b[39mself\u001b[39m)\n",
      "File \u001b[0;32m/home/hdoop/miniconda3/lib/python3.9/multiprocessing/popen_fork.py:43\u001b[0m, in \u001b[0;36mPopen.wait\u001b[0;34m(self, timeout)\u001b[0m\n\u001b[1;32m     <a href='file:///home/hdoop/miniconda3/lib/python3.9/multiprocessing/popen_fork.py?line=40'>41</a>\u001b[0m             \u001b[39mreturn\u001b[39;00m \u001b[39mNone\u001b[39;00m\n\u001b[1;32m     <a href='file:///home/hdoop/miniconda3/lib/python3.9/multiprocessing/popen_fork.py?line=41'>42</a>\u001b[0m     \u001b[39m# This shouldn't block if wait() returned successfully.\u001b[39;00m\n\u001b[0;32m---> <a href='file:///home/hdoop/miniconda3/lib/python3.9/multiprocessing/popen_fork.py?line=42'>43</a>\u001b[0m     \u001b[39mreturn\u001b[39;00m \u001b[39mself\u001b[39;49m\u001b[39m.\u001b[39;49mpoll(os\u001b[39m.\u001b[39;49mWNOHANG \u001b[39mif\u001b[39;49;00m timeout \u001b[39m==\u001b[39;49m \u001b[39m0.0\u001b[39;49m \u001b[39melse\u001b[39;49;00m \u001b[39m0\u001b[39;49m)\n\u001b[1;32m     <a href='file:///home/hdoop/miniconda3/lib/python3.9/multiprocessing/popen_fork.py?line=43'>44</a>\u001b[0m \u001b[39mreturn\u001b[39;00m \u001b[39mself\u001b[39m\u001b[39m.\u001b[39mreturncode\n",
      "File \u001b[0;32m/home/hdoop/miniconda3/lib/python3.9/multiprocessing/popen_fork.py:27\u001b[0m, in \u001b[0;36mPopen.poll\u001b[0;34m(self, flag)\u001b[0m\n\u001b[1;32m     <a href='file:///home/hdoop/miniconda3/lib/python3.9/multiprocessing/popen_fork.py?line=24'>25</a>\u001b[0m \u001b[39mif\u001b[39;00m \u001b[39mself\u001b[39m\u001b[39m.\u001b[39mreturncode \u001b[39mis\u001b[39;00m \u001b[39mNone\u001b[39;00m:\n\u001b[1;32m     <a href='file:///home/hdoop/miniconda3/lib/python3.9/multiprocessing/popen_fork.py?line=25'>26</a>\u001b[0m     \u001b[39mtry\u001b[39;00m:\n\u001b[0;32m---> <a href='file:///home/hdoop/miniconda3/lib/python3.9/multiprocessing/popen_fork.py?line=26'>27</a>\u001b[0m         pid, sts \u001b[39m=\u001b[39m os\u001b[39m.\u001b[39;49mwaitpid(\u001b[39mself\u001b[39;49m\u001b[39m.\u001b[39;49mpid, flag)\n\u001b[1;32m     <a href='file:///home/hdoop/miniconda3/lib/python3.9/multiprocessing/popen_fork.py?line=27'>28</a>\u001b[0m     \u001b[39mexcept\u001b[39;00m \u001b[39mOSError\u001b[39;00m:\n\u001b[1;32m     <a href='file:///home/hdoop/miniconda3/lib/python3.9/multiprocessing/popen_fork.py?line=28'>29</a>\u001b[0m         \u001b[39m# Child process not yet created. See #1731717\u001b[39;00m\n\u001b[1;32m     <a href='file:///home/hdoop/miniconda3/lib/python3.9/multiprocessing/popen_fork.py?line=29'>30</a>\u001b[0m         \u001b[39m# e.errno == errno.ECHILD == 10\u001b[39;00m\n\u001b[1;32m     <a href='file:///home/hdoop/miniconda3/lib/python3.9/multiprocessing/popen_fork.py?line=30'>31</a>\u001b[0m         \u001b[39mreturn\u001b[39;00m \u001b[39mNone\u001b[39;00m\n",
      "\u001b[0;31mKeyboardInterrupt\u001b[0m: "
     ]
    }
   ],
   "source": [
    "def Geocode2Location(coordinates):\n",
    "    location = rg.search(coordinates)\n",
    "    return location\n",
    "count = 0\n",
    "for i in range(0,len(max_temps)):\n",
    "    geoCode = (max_temps.latitude[i], max_temps.longtitude[i])\n",
    "    result = Geocode2Location(geoCode)[0]\n",
    "    print(f\"Năm {max_temps.year[i]} --Nhiệt độ cao nhất {max_temps.max_temp[i]} -- Vị trí {result['name']} \")"
   ]
  }
 ],
 "metadata": {
  "interpreter": {
   "hash": "c156cbd56f2befb501b04e4bcafbb3ceb498087e79117ebbae5589b514d9d978"
  },
  "kernelspec": {
   "display_name": "Python 3.9.7 ('miniconda3')",
   "language": "python",
   "name": "python3"
  },
  "language_info": {
   "codemirror_mode": {
    "name": "ipython",
    "version": 3
   },
   "file_extension": ".py",
   "mimetype": "text/x-python",
   "name": "python",
   "nbconvert_exporter": "python",
   "pygments_lexer": "ipython3",
   "version": "3.9.7"
  },
  "orig_nbformat": 4
 },
 "nbformat": 4,
 "nbformat_minor": 2
}
